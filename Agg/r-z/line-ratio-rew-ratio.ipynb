{
 "cells": [
  {
   "cell_type": "code",
   "execution_count": 1,
   "metadata": {},
   "outputs": [
    {
     "name": "stderr",
     "output_type": "stream",
     "text": [
      "/home/reza/anaconda3/lib/python3.7/site-packages/pyfits/__init__.py:22: PyFITSDeprecationWarning: PyFITS is deprecated, please use astropy.io.fits\n",
      "  PyFITSDeprecationWarning)  # noqa\n"
     ]
    },
    {
     "data": {
      "text/plain": [
       "<TableColumns names=('sdss_name','Plate','MJD','FiberID','ThingID','z_dr12','snr_1700','snr_spec','bal_flag_vi','bi_civ','err_bi_civ','ai_civ','err_ai_civ','vmin_civ_450','fwhm_civ','rewe_civ','err_rewe_civ','f1450','alpha_civ','alpha_nv','alpha_all','alphae_all','alpha_allc','alphae_allc','rew_gf','rewe_gf','rewsnr_gf','rew_gfc','rew_gfw','qflag','fwhm_gf','fwhme_gf','fwhmsnr_gf','fwhm_gfc','fwhm_gfw','sigma_gf','peak_gf','peaksnr_gf','rat_gf','wcent_gf','wciv0_gf','wcore_gf','wcoree_gf','shift_gf','asy_gf','kurt75_gf','kurt80_gf','rew_di','rewe_di','fwhm_di','peak_di','wciv_di','rew_nv','frat_nv/civ','crat_nv/civ','scale','nvflag','ABg','ABg_err','ABr','ABr_err','ABi','ABi_err','ABz','ABz_err','Mi','ABw1','ABw1_snr','ABw2','ABw2_snr','ABw3','ABw3_snr','ABw4','ABw4_snr','r-z','i-w1','i-w3','r-w3','i-w4','r-w4','w3-w4','uniform','boss_tar1','anc_tar1','anc_tar2','sdss_dr7','cc_flags','ABy','ABy_err','ABj','ABj_err','ABh','ABh_err','ABk','ABk_err','first_matched','first_flux','first_snr','Lum')>"
      ]
     },
     "execution_count": 1,
     "metadata": {},
     "output_type": "execute_result"
    }
   ],
   "source": [
    "from astropy.table import Table, Column\n",
    "import time\n",
    "import numpy as np\n",
    "from mpl_toolkits.mplot3d import Axes3D\n",
    "import matplotlib.pyplot as plt\n",
    "import sys\n",
    "from scipy.stats import kde\n",
    "from tqdm import tqdm\n",
    "sys.path.insert(0, '/home/reza/erq/')\n",
    "from erqml import *\n",
    "import sys\n",
    "sys.path.insert(0, '/home/reza/erq')\n",
    "from scipy import interpolate\n",
    "# import pyfits\n",
    "from numpy import *\n",
    "import math\n",
    "import scipy.ndimage\n",
    "from scipy import interpolate\n",
    "from numpy import nanmean\n",
    "from numpy import nanmedian\n",
    "from readSDSSspectrafast import *\n",
    "import matplotlib.pylab as plt\n",
    "import numpy as np\n",
    "from erqml import *\n",
    "from scipy import ndimage\n",
    "from line_db import line_db\n",
    "import os\n",
    "# Reading data\n",
    "smp=Table.read('/home/reza/erq/sampling/org_sample2.fits')\n",
    "# smp=Table.read('/home/reza/erq/sampling/LM_sample.fits')\n",
    "W3_0=smp['ABw3']\n",
    "iW3_0 = smp['i-w3']\n",
    "kt80_0= smp['kurt80_gf']\n",
    "rew_0 = smp['rew_gf']\n",
    "# rew_0  = np.log10(rew_0)\n",
    "frat_0 = smp['frat_nv/civ']\n",
    "fwhm_0 = smp['fwhm_gf']\n",
    "rw3_0=smp['r-w3']\n",
    "rz_0=smp['r-z']\n",
    "iz_0 = iW3_0 - rw3_0 + rz_0\n",
    "Lum_0 = smp['Lum']\n",
    "z_dr12=smp['z_dr12']\n",
    "nqsos_0=len(iW3_0)\n",
    "plate_0 = smp['Plate']\n",
    "mjd_0 = smp['MJD']\n",
    "fiberid_0= smp['FiberID']\n",
    "rew_n5_0 = smp['rew_nv']\n",
    "smp.columns\n"
   ]
  },
  {
   "cell_type": "code",
   "execution_count": 2,
   "metadata": {},
   "outputs": [
    {
     "data": {
      "text/plain": [
       "168"
      ]
     },
     "execution_count": 2,
     "metadata": {},
     "output_type": "execute_result"
    }
   ],
   "source": [
    "len(iW3_0[(iW3_0>=4.6) &(rew_0>=2)])"
   ]
  },
  {
   "cell_type": "code",
   "execution_count": 3,
   "metadata": {},
   "outputs": [
    {
     "name": "stdout",
     "output_type": "stream",
     "text": [
      "6923\n"
     ]
    }
   ],
   "source": [
    "#  ---------r-z sample\n",
    "z_cut = 2.8\n",
    "W3_rz= W3_0[z_dr12<=z_cut]\n",
    "iW3_rz = iW3_0[z_dr12<=z_cut]\n",
    "kt80_rz= kt80_0[z_dr12<=z_cut]\n",
    "rew_rz = rew_0[z_dr12<=z_cut]\n",
    "frat_rz = frat_0[z_dr12<=z_cut]\n",
    "fwhm_rz = fwhm_0[z_dr12<=z_cut]\n",
    "rw3_rz=rw3_0[z_dr12<=z_cut]\n",
    "rz_rz=rz_0[z_dr12<=z_cut]\n",
    "iz_rz = iW3_rz - rw3_rz + rz_rz\n",
    "Lum_rz = Lum_0[z_dr12<=z_cut]\n",
    "plate_rz = plate_0[z_dr12<=z_cut]\n",
    "mjd_rz = mjd_0[z_dr12<=z_cut]\n",
    "fiberid_rz=fiberid_0[z_dr12<=z_cut]\n",
    "rew_n5_rz = rew_n5_0[z_dr12<=z_cut]\n",
    "nqsos_rz=len(iW3_rz)\n",
    "print(nqsos_0-nqsos_rz)\n",
    "# smp.columns"
   ]
  },
  {
   "cell_type": "code",
   "execution_count": 4,
   "metadata": {},
   "outputs": [],
   "source": [
    "rew_ratio= rew_n5_0/rew_0\n"
   ]
  },
  {
   "cell_type": "code",
   "execution_count": 5,
   "metadata": {},
   "outputs": [
    {
     "data": {
      "image/png": "[encoded data removed]",
      "text/plain": [
       "<Figure size 432x288 with 1 Axes>"
      ]
     },
     "metadata": {
      "needs_background": "light"
     },
     "output_type": "display_data"
    }
   ],
   "source": [
    "plt.scatter(rew_ratio[rew_n5_0>0], frat_0[rew_n5_0>0], s=5, alpha=0.3)\n",
    "plt.scatter(rew_ratio[(rew_n5_0>0) & (iW3_0>=4.6) & (rew_0>=2) ], frat_0[(rew_n5_0>0) & (iW3_0>=4.6) & (rew_0>=2)], s=10, label='ERQ')\n",
    "plt.xlabel('rew_N5/rew_C4')\n",
    "plt.ylabel('frat_N5_C4')\n",
    "plt.legend()\n",
    "plt.savefig('rew-frat.pdf', bbox_inches='tight')"
   ]
  },
  {
   "cell_type": "code",
   "execution_count": 6,
   "metadata": {},
   "outputs": [
    {
     "data": {
      "text/plain": [
       "121"
      ]
     },
     "execution_count": 6,
     "metadata": {},
     "output_type": "execute_result"
    }
   ],
   "source": [
    "len(rew_n5_0[rew_n5_0==-1])"
   ]
  },
  {
   "cell_type": "code",
   "execution_count": 9,
   "metadata": {},
   "outputs": [
    {
     "name": "stdout",
     "output_type": "stream",
     "text": [
      "Using matplotlib backend: Qt5Agg\n"
     ]
    },
    {
     "data": {
      "text/plain": [
       "<mpl_toolkits.mplot3d.art3d.Path3DCollection at 0x7ff0801c3b38>"
      ]
     },
     "execution_count": 9,
     "metadata": {},
     "output_type": "execute_result"
    }
   ],
   "source": [
    "%matplotlib\n",
    "f = plt.figure()\n",
    "ax =Axes3D(f)\n",
    "ax.scatter(rew_0[rew_n5_0>0], rew_n5_0[rew_n5_0>0], frat_0[rew_n5_0>0], s=5, alpha=0.4)\n",
    "ax.scatter(rew_0[(rew_n5_0>0) & (iW3_0>=4.6) & (rew_0>=2) ], rew_n5_0[(rew_n5_0>0) & (iW3_0>=4.6) & (rew_0>=2)], \n",
    "          frat_0[(rew_n5_0>0) & (iW3_0>=4.6) & (rew_0>=2)], s=10)\n"
   ]
  },
  {
   "cell_type": "code",
   "execution_count": 10,
   "metadata": {},
   "outputs": [
    {
     "data": {
      "text/plain": [
       "<matplotlib.collections.PathCollection at 0x7ff0801bb748>"
      ]
     },
     "execution_count": 10,
     "metadata": {},
     "output_type": "execute_result"
    }
   ],
   "source": [
    "plt.scatter(Lum_0, rew_0)"
   ]
  }
 ],
 "metadata": {
  "kernelspec": {
   "display_name": "Python 3",
   "language": "python",
   "name": "python3"
  },
  "language_info": {
   "codemirror_mode": {
    "name": "ipython",
    "version": 3
   },
   "file_extension": ".py",
   "mimetype": "text/x-python",
   "name": "python",
   "nbconvert_exporter": "python",
   "pygments_lexer": "ipython3",
   "version": "3.7.3"
  }
 },
 "nbformat": 4,
 "nbformat_minor": 4
}
