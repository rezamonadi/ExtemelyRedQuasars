{
 "cells": [
  {
   "cell_type": "code",
   "execution_count": 1,
   "metadata": {},
   "outputs": [],
   "source": [
    "from astropy.table import Table, Column\n",
    "import time\n",
    "import numpy as np\n",
    "from mpl_toolkits.mplot3d import Axes3D\n",
    "import matplotlib.pyplot as plt\n",
    "import sys\n",
    "from scipy.stats import kde\n",
    "from tqdm import tqdm\n",
    "\n",
    "sys.path.insert(0, '../Modules')\n",
    "import erqScaling\n",
    "import erqMedSpec\n",
    "import os"
   ]
  },
  {
   "cell_type": "code",
   "execution_count": 1,
   "metadata": {},
   "outputs": [
    {
     "data": {
      "text/plain": [
       "range(40, 100, 10)"
      ]
     },
     "execution_count": 1,
     "metadata": {},
     "output_type": "execute_result"
    }
   ],
   "source": [
    "range(40, 100, 10)"
   ]
  },
  {
   "cell_type": "code",
   "execution_count": 2,
   "metadata": {},
   "outputs": [
    {
     "data": {
      "text/plain": [
       "90"
      ]
     },
     "execution_count": 2,
     "metadata": {},
     "output_type": "execute_result"
    }
   ],
   "source": [
    "_[-1]"
   ]
  },
  {
   "cell_type": "code",
   "execution_count": 2,
   "metadata": {
    "tags": []
   },
   "outputs": [],
   "source": [
    "# Reading data\n",
    "smp=Table.read('../LumMatch/LumMatch.fits')\n",
    "iW3_0 = smp['i-w3']\n",
    "kt80_0= smp['kurt80_gf']\n",
    "rew_0 = smp['rew_gf']\n",
    "rew_0  = np.log10(rew_0)\n",
    "frat_0 = smp['frat_nv/civ']\n",
    "fwhm_0 = smp['fwhm_gf']\n",
    "rw3_0=smp['r-w3']\n",
    "rz_0=smp['r-z']\n",
    "iz_0 = iW3_0 - rw3_0 + rz_0\n",
    "Lum_0 = smp['Lum']\n",
    "z_dr12 = smp['z_dr12']\n",
    "plate = smp['Plate']\n",
    "mjd = smp['MJD']\n",
    "fiber =  smp['FiberID']"
   ]
  },
  {
   "cell_type": "code",
   "execution_count": 3,
   "metadata": {
    "tags": []
   },
   "outputs": [],
   "source": [
    "# Normalizing data + getting the center and ERQ\n",
    "data_0=np.array(list(zip(iW3_0, rew_0)))\n",
    "(data, minData, rangeData) =  erqScaling.MinMaxScaler(data_0)\n",
    "Main_center = np.median(data, axis=0)\n",
    "ERQ = data[((iW3_0>=4.6) & (rew_0>=2))]\n",
    "\n",
    "\n",
    "enclosing_ratio=1; resolution=1000; ngrids=500; \n",
    "opening_angle, ERQ_direction = erqMedSpec.opening_angle_finder(ERQ, Main_center, enclosing_ratio, resolution)\n",
    "#  Obtaining Point A and B for the ERQ wedge\n",
    "x_erq, y_erq= np.median(ERQ, axis=0)  #center of ERQ population \n",
    "r_erq = np.sqrt((x_erq-Main_center[0])**2 + (y_erq-Main_center[1])**2)  # ERQ radius \n",
    "\n",
    "#  Obtaining Point A and B for the ERQ wedge\n",
    "x_erq, y_erq= np.median(ERQ, axis=0)  #center of ERQ population \n",
    "r_erq = np.sqrt((x_erq-Main_center[0])**2 + (y_erq-Main_center[1])**2)  # ERQ radius "
   ]
  },
  {
   "cell_type": "code",
   "execution_count": 4,
   "metadata": {
    "tags": []
   },
   "outputs": [],
   "source": [
    "# binning wedge-1\n",
    "A= [0,0]\n",
    "B= [0,0]\n",
    "ext=1.6\n",
    "A[0] = Main_center[0] + r_erq*ext*np.cos(ERQ_direction+opening_angle)\n",
    "B[0] = Main_center[0] + r_erq*ext*np.cos(ERQ_direction-opening_angle)\n",
    "A[1] = Main_center[1] + r_erq*ext*np.sin(ERQ_direction+opening_angle)\n",
    "B[1] = Main_center[1] + r_erq*ext*np.sin(ERQ_direction-opening_angle)\n",
    "np.rad2deg(opening_angle)\n",
    "\n",
    "bw=3 # bandwidth ratio for the default value\n",
    "wdg=0\n",
    "dir = 'outData/'\n",
    "x_erq_0 = 4.6\n",
    "y_erq_0 = 2\n",
    "if os.path.exists(dir)==False:\n",
    "    os.system('mkdir -p ' + dir)\n",
    "levels = np.array([0.03, .1, 0.3])"
   ]
  },
  {
   "cell_type": "code",
   "execution_count": 22,
   "metadata": {
    "tags": []
   },
   "outputs": [],
   "source": [
    "from sklearn.neighbors import LocalOutlierFactor as LOF\n",
    "\n",
    "nBin=7\n",
    "expansion=[1.26, 1.54, 1.95]\n",
    "bin_label, bin_pop = erqMedSpec.KDE_Bin2D(data, rangeData, minData, False, 4.6, 2,\n",
    "                                          50,  bw, levels, A, B, True,expansion,'', False, '','' ,'', False)\n",
    " \n",
    "\n",
    "for k in [38,39,40, 41]:\n",
    "    clf= LOF(n_neighbors=k,  n_jobs=-1)\n",
    "    clf.fit_predict(data)\n",
    "    LOFScores= -clf.negative_outlier_factor_\n",
    "    LOFScoresMed=np.zeros([nBin])\n",
    "    #  Median properties in each bin\n",
    "    for b in range(nBin):\n",
    "        mask = (bin_label==b+1)\n",
    "        LOFScoresMed[b] =np.median(LOFScores[mask])\n",
    "    \n",
    "    max_diff= -100\n",
    "    if ((LOFScoresMed[3]-LOFScoresMed[4])>max_diff):\n",
    "        max_diff = LOFScoresMed[3]-LOFScoresMed[4]\n",
    "        min_LOF_B4 = LOFScoresMed[3]\n",
    "        max_LOF_B5 = LOFScoresMed[4]\n",
    "        i_min=i\n",
    "        j_min=j\n",
    "    print(k, max_diff)\n",
    "    plt.plot(np.linspace(1,nBin,nBin), LOFScoresMed, marker='o', label='k:%d'%(k), alpha=0.5)\n",
    "plt.legend()"
   ]
  },
  {
   "cell_type": "code",
   "execution_count": 5,
   "metadata": {},
   "outputs": [
    {
     "data": {
      "text/plain": [
       "array([False,  True])"
      ]
     },
     "execution_count": 5,
     "metadata": {},
     "output_type": "execute_result"
    }
   ],
   "source": [
    "from matplotlib import path\n",
    "p = path.Path([(0,0), (0, 1), (1, 1), (1, 0)])  # square with legs length 1 and bottom left corner at the origin\n",
    "p.contains_points([[0.5,0.5], [0,2]])\n",
    "cc=[1,3]\n",
    "bb=[4,5]\n",
    "ff=[6,8]\n",
    "p=path.Path([cc,bb,ff])\n",
    "p.contains_points([[3,3], [4,6]])"
   ]
  },
  {
   "cell_type": "code",
   "execution_count": 12,
   "metadata": {},
   "outputs": [
    {
     "data": {
      "text/plain": [
       "-1"
      ]
     },
     "execution_count": 12,
     "metadata": {},
     "output_type": "execute_result"
    }
   ],
   "source": [
    "j_min"
   ]
  },
  {
   "cell_type": "code",
   "execution_count": 8,
   "metadata": {},
   "outputs": [
    {
     "data": {
      "text/plain": [
       "1.0630475225943228"
      ]
     },
     "execution_count": 8,
     "metadata": {},
     "output_type": "execute_result"
    }
   ],
   "source": [
    "min_LOF_B4"
   ]
  },
  {
   "cell_type": "code",
   "execution_count": 9,
   "metadata": {},
   "outputs": [
    {
     "data": {
      "text/plain": [
       "1.0562629337443807"
      ]
     },
     "execution_count": 9,
     "metadata": {},
     "output_type": "execute_result"
    }
   ],
   "source": [
    "max_LOF_B5"
   ]
  }
 ],
 "metadata": {
  "kernelspec": {
   "display_name": "Python 3",
   "language": "python",
   "name": "python3"
  },
  "language_info": {
   "codemirror_mode": {
    "name": "ipython",
    "version": 3
   },
   "file_extension": ".py",
   "mimetype": "text/x-python",
   "name": "python",
   "nbconvert_exporter": "python",
   "pygments_lexer": "ipython3",
   "version": "3.8.3"
  }
 },
 "nbformat": 4,
 "nbformat_minor": 4
}
