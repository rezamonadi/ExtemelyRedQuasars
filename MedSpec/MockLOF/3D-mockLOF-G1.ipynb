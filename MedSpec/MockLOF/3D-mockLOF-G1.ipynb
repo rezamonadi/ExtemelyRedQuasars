{
 "cells": [
  {
   "cell_type": "code",
   "execution_count": 9,
   "metadata": {},
   "outputs": [],
   "source": [
    "import numpy as np\n",
    "import  matplotlib.pyplot as plt\n",
    "import sys\n",
    "from scipy.stats import kde\n",
    "from tqdm import tqdm\n",
    "\n",
    "sys.path.insert(0, '../../Modules')\n",
    "import erqScaling\n",
    "import erqMedSpec\n",
    "import os\n",
    "def sampler(mean1, cov1, mean2, cov2, NG1, NG2):\n",
    "\n",
    "    X1 = np.random.multivariate_normal(mean1, cov1, NG1)\n",
    "    X2= np.random.multivariate_normal(mean2, cov2, NG2)\n",
    "\n",
    "    X_all = np.concatenate((X1,X2), axis=0)\n",
    "#     np.savetxt(name, X_all)\n",
    "    return X_all, X1, X2"
   ]
  },
  {
   "cell_type": "code",
   "execution_count": 60,
   "metadata": {},
   "outputs": [],
   "source": [
    "#  resampling for LOF score of each bin \n",
    "\n",
    "from sklearn.neighbors import LocalOutlierFactor as LOF\n",
    "cc=-1\n",
    "from matplotlib import cm\n",
    "nBoot=100\n",
    "k=50\n",
    "outG1=[]\n",
    "outG2=[]\n",
    "cG2=[]\n",
    "rin =[0, 1,   1.5, 2.5, 4.8, 5.7, 7]\n",
    "rout=[1, 1.5, 2.5, 4.8, 5.7, 7, 100]\n",
    "nBin = len(rin)\n",
    "LOFScoresMedianBins=np.zeros([nBoot,nBin])\n",
    "opening_angle= np.deg2rad(20)\n",
    "ERQ_Vector = np.array([1,1,1])/np.sqrt(3)\n"
   ]
  },
  {
   "cell_type": "code",
   "execution_count": 63,
   "metadata": {},
   "outputs": [
    {
     "name": "stderr",
     "output_type": "stream",
     "text": [
      "100%|██████████| 100/100 [01:10<00:00,  1.41it/s]\n",
      "100%|██████████| 100/100 [01:32<00:00,  1.08it/s]\n",
      "100%|██████████| 100/100 [01:50<00:00,  1.10s/it]\n",
      "100%|██████████| 100/100 [02:12<00:00,  1.33s/it]\n"
     ]
    }
   ],
   "source": [
    "for k in [70, 100, 150, 200]:\n",
    "    for s in tqdm(range(nBoot)):\n",
    "\n",
    "        # Grawing two Gaussian samples\n",
    "        data=np.random.multivariate_normal([0,0,0], [[1,0,0],[0,1,0], [0,0,1]], 30000)\n",
    "        C = np.median(data, axis=0)\n",
    "        data_norm = erqMedSpec.vectors_uniter(data-C)\n",
    "        clf= LOF(n_neighbors=k,  n_jobs=-1)\n",
    "        clf.fit_predict(data)\n",
    "        LOFScores = -clf.negative_outlier_factor_\n",
    "        theta = np.zeros([len(data)])\n",
    "        for i in range(len(data)):\n",
    "            theta[i] = np.arccos(np.dot(ERQ_Vector, data_norm[i,:]))\n",
    "\n",
    "        # initializing \n",
    "        r = np.sqrt((data[:,0]-C[0])**2 + (data[:,1]-C[1])**2 + (data[:,2]-C[2])**2)\n",
    "        for b in range(nBin):\n",
    "            if (b==0):\n",
    "                mask = (r>=rin[b]) & (r<=rout[b])\n",
    "            else:\n",
    "                mask = (r>=rin[b]) & (r<=rout[b]) & (theta<=opening_angle)\n",
    "            if(np.sum(mask)>0):\n",
    "                LOFScoresMedianBins[s,b]=np.median(LOFScores[mask])\n",
    "            else:\n",
    "                LOFScoresMedianBins[s,b]=np.nan\n",
    "                \n",
    "    np.savetxt('3D-1G-LOFScoresMedianBins-k-%d.dat'%k, LOFScoresMedianBins)"
   ]
  },
  {
   "cell_type": "code",
   "execution_count": null,
   "metadata": {},
   "outputs": [],
   "source": [
    "\n",
    "import seaborn as sns\n",
    "from scipy import stats \n",
    "for k in [40, 50, 100, 150]:\n",
    "    P_all =[]\n",
    "    med_bin=[]\n",
    "    width= []\n",
    "    for b in range(nBin):\n",
    "        N, bins, patch=plt.hist(LOFScoresMedianBins[~np.isnan(LOFScoresMedianBins[:,b]),b], bins=10)\n",
    "        med_bin.append((bins[:-1] + bins[1:])/2)\n",
    "        width.append(bins[1] - bins[0])\n",
    "        P_all.append(N/np.sum(N))\n",
    "        plt.clf()\n",
    "        plt.cla()\n",
    "        l, u, LOFScoreMedian = np.zeros(nBin),  np.zeros(nBin),  np.zeros(nBin)\n",
    "    for b in range(nBin):\n",
    "        \n",
    "        l[b]= np.percentile(DistLOFMedBin[:,b],32)\n",
    "        u[b]= np.percentile(DistLOFMedBin[:,b],68)\n",
    "        LOFScoreMedian[b] = np.median(DistLOFMedBin[:,b])       \n",
    "        u[b]=u[b] - LOFScoreMedian[b]\n",
    "        l[b]=LOFScoreMedian[b] - l[b]\n",
    "\n",
    "        plt.bar(med_bin[b], P_all[b], width=width[b],  linewidth=0.5, alpha=.5, \n",
    "                label=r'Bin %d: %.1f$\\sigma$<r<%.1f$\\sigma$'%(b+1, rin[b],rout[b]))\n",
    "        \n",
    "   \n",
    "    plt.legend()\n",
    "    plt.savefig('3D_LOF_MOK_PDF-G1-k%d.png'%k, dpi=200)\n",
    "    plt.show()\n"
   ]
  },
  {
   "cell_type": "code",
   "execution_count": null,
   "metadata": {},
   "outputs": [],
   "source": [
    "med_bin"
   ]
  },
  {
   "cell_type": "code",
   "execution_count": 64,
   "metadata": {},
   "outputs": [
    {
     "name": "stdout",
     "output_type": "stream",
     "text": [
      "k=70 b=0 l=1.438e-04 m=9.981e-01 u=1.652e-04\n",
      "k=70 b=1 l=1.244e-03 m=1.003e+00 u=9.835e-04\n",
      "k=70 b=2 l=1.394e-03 m=1.026e+00 u=2.912e-03\n",
      "k=70 b=3 l=1.217e-02 m=1.173e+00 u=1.221e-02\n",
      "k=70 b=4 l=5.083e-02 m=2.621e+00 u=1.386e-02\n",
      "k=100 b=0 l=1.324e-04 m=9.971e-01 u=1.139e-04\n",
      "k=100 b=1 l=9.722e-04 m=1.003e+00 u=1.830e-03\n",
      "k=100 b=2 l=2.567e-03 m=1.030e+00 u=1.970e-03\n",
      "k=100 b=3 l=1.443e-02 m=1.204e+00 u=1.184e-02\n",
      "k=100 b=4 l=2.282e-01 m=2.886e+00 u=2.153e-01\n",
      "k=150 b=0 l=1.299e-04 m=9.957e-01 u=1.324e-04\n",
      "k=150 b=1 l=1.206e-03 m=1.004e+00 u=1.168e-03\n",
      "k=150 b=2 l=2.094e-03 m=1.037e+00 u=3.503e-03\n",
      "k=150 b=3 l=1.346e-02 m=1.224e+00 u=1.578e-02\n",
      "k=150 b=4 l=0.000e+00 m=2.613e+00 u=0.000e+00\n",
      "k=200 b=0 l=1.395e-04 m=9.946e-01 u=1.323e-04\n",
      "k=200 b=1 l=1.878e-03 m=1.005e+00 u=1.003e-03\n",
      "k=200 b=2 l=3.553e-03 m=1.045e+00 u=2.811e-03\n",
      "k=200 b=3 l=1.517e-02 m=1.248e+00 u=9.613e-03\n",
      "k=200 b=4 l=6.433e-02 m=2.805e+00 u=4.452e-02\n"
     ]
    },
    {
     "data": {
      "image/png": "[encoded data removed]",
      "text/plain": [
       "<Figure size 432x288 with 1 Axes>"
      ]
     },
     "metadata": {
      "needs_background": "light"
     },
     "output_type": "display_data"
    }
   ],
   "source": [
    "# Plotting 2D Mock LOF error bars \n",
    "r1=[0, 0.5,1,1.5,2, 2.5, 3.5,4.5]\n",
    "r2=[0.5,1,1.5, 2, 2.5, 3.5, 4.5, 7]\n",
    "from scipy import stats \n",
    "P_all =[]\n",
    "med_bin=[]\n",
    "width= []\n",
    "c= ['C0', 'C1', 'C2', 'C3', 'C4']\n",
    "cind=-1\n",
    "for k in [70, 100, 150, 200]:\n",
    "    DistLOFMedBin = np.loadtxt('3D-1G-LOFScoresMedianBins-k-%d.dat'%k)\n",
    "    l, u, LOFScoreMedian = np.zeros(nBin),  np.zeros(nBin),  np.zeros(nBin)\n",
    "    for b in range(nBin-2):\n",
    "        \n",
    "        l[b]= np.percentile(DistLOFMedBin[~np.isnan(DistLOFMedBin[:,b]),b],32)\n",
    "        u[b]= np.percentile(DistLOFMedBin[~np.isnan(DistLOFMedBin[:,b]),b],68)\n",
    "        LOFScoreMedian[b] = np.median(DistLOFMedBin[~np.isnan(DistLOFMedBin[:,b]),b])       \n",
    "        u[b]=u[b] - LOFScoreMedian[b]\n",
    "        l[b]=LOFScoreMedian[b] - l[b]\n",
    "        print('k=%d b=%d l=%.3e m=%.3e u=%.3e'%(k, b, l[b],LOFScoreMedian[b],u[b]))\n",
    "#         u[b] = np.percentile(DistLOFMedBin[:,b],95) - LOFScoreMedian[b]\n",
    "#         l[b] = -np.percentile(DistLOFMedBin[:,b],5) + LOFScoreMedian[b]\n",
    "\n",
    "#     plt.errorbar(['C', '1', '2', '3', '4', '5', '6'], LOFScoreMedian, \n",
    "#                  yerr=e,marker='o', lw=2, ls='-',\n",
    "#              markersize=2, alpha =0.6, label='k=%d'%k, c=c[cind])                       \n",
    "    cind+=1\n",
    "    plt.errorbar(['C', '1', '2', '3'], LOFScoreMedian[0:4], \n",
    "                 yerr=l[0:4], uplims=False, lolims=True, marker='o', lw=1, ls='--',\n",
    "             markersize=2, alpha =0.6, label='k=%d'%k, c=c[cind])\n",
    "    plt.errorbar(['C', '1', '2', '3'], LOFScoreMedian[0:4], \n",
    "                 yerr=u[0:4], uplims=True, lolims=False, marker='o', lw=1, ls='--',\n",
    "             markersize=2, alpha =0.6, c=c[cind])\n",
    "plt.xlabel('Bin')\n",
    "plt.legend()\n",
    "plt.savefig('LOF_MOK_3D-1G-errorbar.png', dpi=200, bbox_inches='tight')\n",
    "plt.show()\n"
   ]
  },
  {
   "cell_type": "code",
   "execution_count": 65,
   "metadata": {},
   "outputs": [],
   "source": [
    "! cp LOF_MOK_3D-1G-errorbar.png ../../../erqPaper/fig\n"
   ]
  },
  {
   "cell_type": "code",
   "execution_count": null,
   "metadata": {},
   "outputs": [],
   "source": []
  },
  {
   "cell_type": "code",
   "execution_count": null,
   "metadata": {},
   "outputs": [],
   "source": []
  }
 ],
 "metadata": {
  "kernelspec": {
   "display_name": "Python 3",
   "language": "python",
   "name": "python3"
  },
  "language_info": {
   "codemirror_mode": {
    "name": "ipython",
    "version": 3
   },
   "file_extension": ".py",
   "mimetype": "text/x-python",
   "name": "python",
   "nbconvert_exporter": "python",
   "pygments_lexer": "ipython3",
   "version": "3.8.3"
  }
 },
 "nbformat": 4,
 "nbformat_minor": 4
}
