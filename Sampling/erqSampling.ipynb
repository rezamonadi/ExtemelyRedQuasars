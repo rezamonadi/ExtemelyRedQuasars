{
 "cells": [
  {
   "cell_type": "code",
   "execution_count": 36,
   "metadata": {},
   "outputs": [
    {
     "name": "stdout",
     "output_type": "stream",
     "text": [
      "Full= 217030 total T1s = 35976 , T1 ERQs = 154 , core T1 ERQs = 72\n"
     ]
    }
   ],
   "source": [
    "import time\n",
    "from astropy.table import Table, Column\n",
    "from sklearn import preprocessing\n",
    "import os\n",
    "#import astropy.io.fits as pyfits\n",
    "#import numpy as np\n",
    "start_time=time.time()\n",
    "# selection parameters\n",
    "tab=Table.read('C4N5REWs_DR12v11_all.fits')\n",
    "z_dr12=tab['z_dr12']\n",
    "ABw3_snr=tab['ABw3_snr']\n",
    "\n",
    "rew_gf=tab['rew_gf']\n",
    "rewe_gf=tab['rewe_gf']\n",
    "ratio_rew=  rew_gf/rewe_gf#tab['rewsnr_gf']\n",
    "fwhm=tab['fwhm_gf']\n",
    "fwhme=tab['fwhme_gf']\n",
    "ratio_fwhm= fwhm/fwhme #tab['fwhmsnr_gf']\n",
    "qflag=tab['qflag']\n",
    "nvflag=tab['nvflag']\n",
    "imw3= tab['i-w3']\n",
    "# W3=tab['W3']\n",
    "bal_flag_vi = tab['bal_flag_vi']\n",
    "ccFlag = tab['cc_flags']\n",
    "bi_civ = tab['bi_civ']\n",
    "err_bi_civ = tab['err_bi_civ']\n",
    "# making new table\n",
    "\n",
    "#count=-1\n",
    "row=len(tab)\n",
    "rm=[]\n",
    "k = 0\n",
    "j = 0\n",
    "m = 0\n",
    "# (bal_flag_vi[i] > 0) or (nvflag[i] != 0) or\n",
    "for i in range(0,row):\n",
    "    if    (fwhm[i]<2000) or ((imw3[i]) < 0.8) or (z_dr12[i]<2.0) or (z_dr12[i]>3.4)\\\n",
    "        or (ratio_fwhm[i] < 4) or (qflag[i] != 0) or (ccFlag[i]!='0000') or\\\n",
    "        (ABw3_snr[i] < 3) or (ratio_rew[i] < 3.0) or (nvflag[i] != 0):\n",
    "                        \n",
    "             rm.append(i)\n",
    "    else:\n",
    "        k = k+1\n",
    "        if imw3[i] >= 4.6: j = j+1\n",
    "        if imw3[i] >= 4.6 and rew_gf[i] >= 100.0: m = m+1\n",
    "\n",
    "\n",
    "print('Full=', row, 'total T1s =',k, ', T1 ERQs =', j, ', core T1 ERQs =', m)\n",
    "\n",
    "tab.remove_rows(rm)\n",
    "out='FullSample.fits'\n",
    "if os.path.exists(out):\n",
    "      os.remove(out)\n",
    "\n",
    "tab.write(out)"
   ]
  },
  {
   "cell_type": "code",
   "execution_count": 18,
   "metadata": {},
   "outputs": [
    {
     "ename": "KeyError",
     "evalue": "'frat'",
     "output_type": "error",
     "traceback": [
      "\u001b[0;31m---------------------------------------------------------------------------\u001b[0m",
      "\u001b[0;31mKeyError\u001b[0m                                  Traceback (most recent call last)",
      "\u001b[0;32m<ipython-input-18-45a37bde5add>\u001b[0m in \u001b[0;36m<module>\u001b[0;34m\u001b[0m\n\u001b[0;32m----> 1\u001b[0;31m \u001b[0mfrat\u001b[0m \u001b[0;34m=\u001b[0m \u001b[0mtab\u001b[0m\u001b[0;34m[\u001b[0m\u001b[0;34m'frat'\u001b[0m\u001b[0;34m]\u001b[0m\u001b[0;34m\u001b[0m\u001b[0;34m\u001b[0m\u001b[0m\n\u001b[0m",
      "\u001b[0;32m~/anaconda3/lib/python3.8/site-packages/astropy/table/table.py\u001b[0m in \u001b[0;36m__getitem__\u001b[0;34m(self, item)\u001b[0m\n\u001b[1;32m   1600\u001b[0m     \u001b[0;32mdef\u001b[0m \u001b[0m__getitem__\u001b[0m\u001b[0;34m(\u001b[0m\u001b[0mself\u001b[0m\u001b[0;34m,\u001b[0m \u001b[0mitem\u001b[0m\u001b[0;34m)\u001b[0m\u001b[0;34m:\u001b[0m\u001b[0;34m\u001b[0m\u001b[0;34m\u001b[0m\u001b[0m\n\u001b[1;32m   1601\u001b[0m         \u001b[0;32mif\u001b[0m \u001b[0misinstance\u001b[0m\u001b[0;34m(\u001b[0m\u001b[0mitem\u001b[0m\u001b[0;34m,\u001b[0m \u001b[0mstr\u001b[0m\u001b[0;34m)\u001b[0m\u001b[0;34m:\u001b[0m\u001b[0;34m\u001b[0m\u001b[0;34m\u001b[0m\u001b[0m\n\u001b[0;32m-> 1602\u001b[0;31m             \u001b[0;32mreturn\u001b[0m \u001b[0mself\u001b[0m\u001b[0;34m.\u001b[0m\u001b[0mcolumns\u001b[0m\u001b[0;34m[\u001b[0m\u001b[0mitem\u001b[0m\u001b[0;34m]\u001b[0m\u001b[0;34m\u001b[0m\u001b[0;34m\u001b[0m\u001b[0m\n\u001b[0m\u001b[1;32m   1603\u001b[0m         \u001b[0;32melif\u001b[0m \u001b[0misinstance\u001b[0m\u001b[0;34m(\u001b[0m\u001b[0mitem\u001b[0m\u001b[0;34m,\u001b[0m \u001b[0;34m(\u001b[0m\u001b[0mint\u001b[0m\u001b[0;34m,\u001b[0m \u001b[0mnp\u001b[0m\u001b[0;34m.\u001b[0m\u001b[0minteger\u001b[0m\u001b[0;34m)\u001b[0m\u001b[0;34m)\u001b[0m\u001b[0;34m:\u001b[0m\u001b[0;34m\u001b[0m\u001b[0;34m\u001b[0m\u001b[0m\n\u001b[1;32m   1604\u001b[0m             \u001b[0;32mreturn\u001b[0m \u001b[0mself\u001b[0m\u001b[0;34m.\u001b[0m\u001b[0mRow\u001b[0m\u001b[0;34m(\u001b[0m\u001b[0mself\u001b[0m\u001b[0;34m,\u001b[0m \u001b[0mitem\u001b[0m\u001b[0;34m)\u001b[0m\u001b[0;34m\u001b[0m\u001b[0;34m\u001b[0m\u001b[0m\n",
      "\u001b[0;32m~/anaconda3/lib/python3.8/site-packages/astropy/table/table.py\u001b[0m in \u001b[0;36m__getitem__\u001b[0;34m(self, item)\u001b[0m\n\u001b[1;32m    237\u001b[0m         \"\"\"\n\u001b[1;32m    238\u001b[0m         \u001b[0;32mif\u001b[0m \u001b[0misinstance\u001b[0m\u001b[0;34m(\u001b[0m\u001b[0mitem\u001b[0m\u001b[0;34m,\u001b[0m \u001b[0mstr\u001b[0m\u001b[0;34m)\u001b[0m\u001b[0;34m:\u001b[0m\u001b[0;34m\u001b[0m\u001b[0;34m\u001b[0m\u001b[0m\n\u001b[0;32m--> 239\u001b[0;31m             \u001b[0;32mreturn\u001b[0m \u001b[0mOrderedDict\u001b[0m\u001b[0;34m.\u001b[0m\u001b[0m__getitem__\u001b[0m\u001b[0;34m(\u001b[0m\u001b[0mself\u001b[0m\u001b[0;34m,\u001b[0m \u001b[0mitem\u001b[0m\u001b[0;34m)\u001b[0m\u001b[0;34m\u001b[0m\u001b[0;34m\u001b[0m\u001b[0m\n\u001b[0m\u001b[1;32m    240\u001b[0m         \u001b[0;32melif\u001b[0m \u001b[0misinstance\u001b[0m\u001b[0;34m(\u001b[0m\u001b[0mitem\u001b[0m\u001b[0;34m,\u001b[0m \u001b[0;34m(\u001b[0m\u001b[0mint\u001b[0m\u001b[0;34m,\u001b[0m \u001b[0mnp\u001b[0m\u001b[0;34m.\u001b[0m\u001b[0minteger\u001b[0m\u001b[0;34m)\u001b[0m\u001b[0;34m)\u001b[0m\u001b[0;34m:\u001b[0m\u001b[0;34m\u001b[0m\u001b[0;34m\u001b[0m\u001b[0m\n\u001b[1;32m    241\u001b[0m             \u001b[0;32mreturn\u001b[0m \u001b[0mself\u001b[0m\u001b[0;34m.\u001b[0m\u001b[0mvalues\u001b[0m\u001b[0;34m(\u001b[0m\u001b[0;34m)\u001b[0m\u001b[0;34m[\u001b[0m\u001b[0mitem\u001b[0m\u001b[0;34m]\u001b[0m\u001b[0;34m\u001b[0m\u001b[0;34m\u001b[0m\u001b[0m\n",
      "\u001b[0;31mKeyError\u001b[0m: 'frat'"
     ]
    }
   ],
   "source": []
  },
  {
   "cell_type": "code",
   "execution_count": 26,
   "metadata": {},
   "outputs": [
    {
     "data": {
      "text/plain": [
       "186423"
      ]
     },
     "execution_count": 26,
     "metadata": {},
     "output_type": "execute_result"
    }
   ],
   "source": [
    "sum(nvflag==0)"
   ]
  },
  {
   "cell_type": "code",
   "execution_count": 21,
   "metadata": {},
   "outputs": [
    {
     "data": {
      "text/plain": [
       "['sdss_name',\n",
       " 'Plate',\n",
       " 'MJD',\n",
       " 'FiberID',\n",
       " 'ThingID',\n",
       " 'z_dr12',\n",
       " 'snr_1700',\n",
       " 'snr_spec',\n",
       " 'bal_flag_vi',\n",
       " 'bi_civ',\n",
       " 'err_bi_civ',\n",
       " 'ai_civ',\n",
       " 'err_ai_civ',\n",
       " 'vmin_civ_450',\n",
       " 'fwhm_civ',\n",
       " 'rewe_civ',\n",
       " 'err_rewe_civ',\n",
       " 'f1450',\n",
       " 'alpha_civ',\n",
       " 'alpha_nv',\n",
       " 'alpha_all',\n",
       " 'alphae_all',\n",
       " 'alpha_allc',\n",
       " 'alphae_allc',\n",
       " 'rew_gf',\n",
       " 'rewe_gf',\n",
       " 'rewsnr_gf',\n",
       " 'rew_gfc',\n",
       " 'rew_gfw',\n",
       " 'qflag',\n",
       " 'fwhm_gf',\n",
       " 'fwhme_gf',\n",
       " 'fwhmsnr_gf',\n",
       " 'fwhm_gfc',\n",
       " 'fwhm_gfw',\n",
       " 'sigma_gf',\n",
       " 'peak_gf',\n",
       " 'peaksnr_gf',\n",
       " 'rat_gf',\n",
       " 'wcent_gf',\n",
       " 'wciv0_gf',\n",
       " 'wcore_gf',\n",
       " 'wcoree_gf',\n",
       " 'shift_gf',\n",
       " 'asy_gf',\n",
       " 'kurt75_gf',\n",
       " 'kurt80_gf',\n",
       " 'rew_di',\n",
       " 'rewe_di',\n",
       " 'fwhm_di',\n",
       " 'peak_di',\n",
       " 'wciv_di',\n",
       " 'rew_nv',\n",
       " 'frat_nv/civ',\n",
       " 'crat_nv/civ',\n",
       " 'scale',\n",
       " 'nvflag',\n",
       " 'ABg',\n",
       " 'ABg_err',\n",
       " 'ABr',\n",
       " 'ABr_err',\n",
       " 'ABi',\n",
       " 'ABi_err',\n",
       " 'ABz',\n",
       " 'ABz_err',\n",
       " 'Mi',\n",
       " 'ABw1',\n",
       " 'ABw1_snr',\n",
       " 'ABw2',\n",
       " 'ABw2_snr',\n",
       " 'ABw3',\n",
       " 'ABw3_snr',\n",
       " 'ABw4',\n",
       " 'ABw4_snr',\n",
       " 'r-z',\n",
       " 'i-w1',\n",
       " 'i-w3',\n",
       " 'r-w3',\n",
       " 'i-w4',\n",
       " 'r-w4',\n",
       " 'w3-w4',\n",
       " 'uniform',\n",
       " 'boss_tar1',\n",
       " 'anc_tar1',\n",
       " 'anc_tar2',\n",
       " 'sdss_dr7',\n",
       " 'cc_flags',\n",
       " 'ABy',\n",
       " 'ABy_err',\n",
       " 'ABj',\n",
       " 'ABj_err',\n",
       " 'ABh',\n",
       " 'ABh_err',\n",
       " 'ABk',\n",
       " 'ABk_err',\n",
       " 'first_matched',\n",
       " 'first_flux',\n",
       " 'first_snr']"
      ]
     },
     "execution_count": 21,
     "metadata": {},
     "output_type": "execute_result"
    }
   ],
   "source": [
    "tab.colnames"
   ]
  },
  {
   "cell_type": "code",
   "execution_count": null,
   "metadata": {},
   "outputs": [],
   "source": []
  }
 ],
 "metadata": {
  "kernelspec": {
   "display_name": "Python 3",
   "language": "python",
   "name": "python3"
  },
  "language_info": {
   "codemirror_mode": {
    "name": "ipython",
    "version": 3
   },
   "file_extension": ".py",
   "mimetype": "text/x-python",
   "name": "python",
   "nbconvert_exporter": "python",
   "pygments_lexer": "ipython3",
   "version": "3.8.3"
  }
 },
 "nbformat": 4,
 "nbformat_minor": 4
}
