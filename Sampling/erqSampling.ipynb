{
 "cells": [
  {
   "cell_type": "code",
   "execution_count": 2,
   "metadata": {},
   "outputs": [
    {
     "output_type": "stream",
     "name": "stdout",
     "text": [
      "Full= 217030 total T1s = 35976 , T1 ERQs = 154 , core T1 ERQs = 72\n"
     ]
    }
   ],
   "source": [
    "import time\n",
    "from astropy.table import Table, Column\n",
    "from sklearn import preprocessing\n",
    "import os\n",
    "#import astropy.io.fits as pyfits\n",
    "#import numpy as np\n",
    "start_time=time.time()\n",
    "# selection parameters\n",
    "tab=Table.read('C4N5REWs_DR12v11_all.fits')\n",
    "z_dr12=tab['z_dr12']\n",
    "ABw3_snr=tab['ABw3_snr']\n",
    "\n",
    "rew_gf=tab['rew_gf']\n",
    "rewe_gf=tab['rewe_gf']\n",
    "ratio_rew=  rew_gf/rewe_gf#tab['rewsnr_gf']\n",
    "fwhm=tab['fwhm_gf']\n",
    "fwhme=tab['fwhme_gf']\n",
    "ratio_fwhm= fwhm/fwhme #tab['fwhmsnr_gf']\n",
    "qflag=tab['qflag']\n",
    "nvflag=tab['nvflag']\n",
    "imw3= tab['i-w3']\n",
    "# W3=tab['W3']\n",
    "bal_flag_vi = tab['bal_flag_vi']\n",
    "ccFlag = tab['cc_flags']\n",
    "bi_civ = tab['bi_civ']\n",
    "err_bi_civ = tab['err_bi_civ']\n",
    "# making new table\n",
    "\n",
    "#count=-1\n",
    "row=len(tab)\n",
    "rm=[]\n",
    "k = 0\n",
    "j = 0\n",
    "m = 0\n",
    "# (bal_flag_vi[i] > 0) or (nvflag[i] != 0) or\n",
    "for i in range(0,row):\n",
    "    if    (fwhm[i]<2000) or ((imw3[i]) < 0.8) or (z_dr12[i]<2.0) or (z_dr12[i]>3.4)\\\n",
    "        or (ratio_fwhm[i] < 4) or (qflag[i] != 0) or (ccFlag[i]!='0000') or\\\n",
    "        (ABw3_snr[i] < 3) or (ratio_rew[i] < 3.0) or (nvflag[i] != 0):\n",
    "                        \n",
    "             rm.append(i)\n",
    "    else:\n",
    "        k = k+1\n",
    "        if imw3[i] >= 4.6: j = j+1\n",
    "        if imw3[i] >= 4.6 and rew_gf[i] >= 100.0: m = m+1\n",
    "\n",
    "\n",
    "print('Full=', row, 'total T1s =',k, ', T1 ERQs =', j, ', core T1 ERQs =', m)\n",
    "\n",
    "tab.remove_rows(rm)\n",
    "out='FullSample.fits'\n",
    "if os.path.exists(out):\n",
    "      os.remove(out)\n",
    "\n",
    "tab.write(out)"
   ]
  }
 ],
 "metadata": {
  "kernelspec": {
   "display_name": "Python 3",
   "language": "python",
   "name": "python3"
  },
  "language_info": {
   "codemirror_mode": {
    "name": "ipython",
    "version": 3
   },
   "file_extension": ".py",
   "mimetype": "text/x-python",
   "name": "python",
   "nbconvert_exporter": "python",
   "pygments_lexer": "ipython3",
   "version": "3.8.3-final"
  }
 },
 "nbformat": 4,
 "nbformat_minor": 4
}