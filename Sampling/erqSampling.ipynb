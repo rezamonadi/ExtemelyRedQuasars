{
 "cells": [
  {
   "cell_type": "code",
   "execution_count": 37,
   "metadata": {},
   "outputs": [],
   "source": [
    "import time\n",
    "from astropy.table import Table, Column\n",
    "from sklearn import preprocessing\n",
    "import os\n",
    "#import astropy.io.fits as pyfits\n",
    "#import numpy as np\n",
    "start_time=time.time()\n",
    "# selection parameters\n",
    "tab=Table.read('C4N5REWs_DR12v11_all.fits')\n",
    "z_dr12=tab['z_dr12']\n",
    "ABw3_snr=tab['ABw3_snr']\n",
    "\n",
    "rew_gf=tab['rew_gf']\n",
    "rewe_gf=tab['rewe_gf']\n",
    "ratio_rew=  rew_gf/rewe_gf#tab['rewsnr_gf']\n",
    "fwhm=tab['fwhm_gf']\n",
    "fwhme=tab['fwhme_gf']\n",
    "ratio_fwhm= fwhm/fwhme #tab['fwhmsnr_gf']\n",
    "qflag=tab['qflag']\n",
    "nvflag=tab['nvflag']\n",
    "imw3= tab['i-w3']\n",
    "# W3=tab['W3']\n",
    "bal_flag_vi = tab['bal_flag_vi']\n",
    "ccFlag = tab['cc_flags']\n",
    "bi_civ = tab['bi_civ']\n",
    "err_bi_civ = tab['err_bi_civ']\n",
    "# making new table"
   ]
  },
  {
   "cell_type": "code",
   "execution_count": 38,
   "metadata": {},
   "outputs": [
    {
     "name": "stderr",
     "output_type": "stream",
     "text": [
      "<ipython-input-38-af039a565100>:13: RuntimeWarning: invalid value encountered in log10\n",
      "  plt.scatter(imw3[(imw3>0) & (rew_gf<1000) & (ratio_rew < 2)], np.log10(rew_gf[(imw3>0 )\n"
     ]
    },
    {
     "data": {
      "text/plain": [
       "<matplotlib.collections.PathCollection at 0x7f5d10bf5df0>"
      ]
     },
     "execution_count": 38,
     "metadata": {},
     "output_type": "execute_result"
    },
    {
     "data": {
      "image/png": "[encoded data removed]",
      "text/plain": [
       "<Figure size 432x288 with 1 Axes>"
      ]
     },
     "metadata": {
      "needs_background": "light"
     },
     "output_type": "display_data"
    }
   ],
   "source": [
    "#  Checking why lower right of rew-color PS is empty\n",
    "import matplotlib.pyplot as plt\n",
    "import numpy as np\n",
    "# plt.scatter(imw3[(imw3>0) & (rew_gf<1000) & (ratio_fwhm > 10)], np.log10(rew_gf[(imw3>0 )\n",
    "#                 & (rew_gf<1000) & (ratio_fwhm > 10)]),\n",
    "#             alpha=0.3, s=5)\n",
    "# plt.scatter(imw3[(imw3>0) & (rew_gf<1000)  & (rewe_gf>0\n",
    "#                                              )], np.log10(rew_gf[(imw3>0 )\n",
    "#                 & (rew_gf<1000) & (rewe_gf>0)]), alpha=0.3, s=5, c= ratio_rew[(imw3>0) & \n",
    "#                                                              (rew_gf<1000) & (rewe_gf>0)], \n",
    "#            cmap='coolwarm')\n",
    "# plt.colorbar()\n",
    "plt.scatter(imw3[(imw3>0) & (rew_gf<1000) & (ratio_rew < 2)], np.log10(rew_gf[(imw3>0 )\n",
    "                & (rew_gf<1000) & (ratio_rew < 2)]),\n",
    "            alpha=1, s=5)\n",
    "# plt.scatter(imw3[(imw3>0) & (rew_gf<1000) & (ABw3_snr < 3)], np.log10(rew_gf[(imw3>0 )\n",
    "#                 & (rew_gf<1000) & (ABw3_snr < 3)]),\n",
    "#             alpha=.4, s=5, c='r')\n"
   ]
  },
  {
   "cell_type": "code",
   "execution_count": 39,
   "metadata": {},
   "outputs": [
    {
     "name": "stdout",
     "output_type": "stream",
     "text": [
      "total T1s = 36268 , T1 ERQs = 161 , core T1 ERQs = 72\n"
     ]
    }
   ],
   "source": [
    "#count=-1\n",
    "row=len(tab)\n",
    "rm=[]\n",
    "k = 0\n",
    "j = 0\n",
    "m = 0\n",
    "for i in range(0,row):\n",
    "    if  (fwhm[i]<2000) or ((imw3[i]) < 0.8) or (z_dr12[i]<2.0) or \\\n",
    "      (z_dr12[i]>3.4) or (ABw3_snr[i] < 3) or (ratio_rew[i] < 3.0) or \\\n",
    "      (ratio_fwhm[i] < 4) or (qflag[i] != 0) or (ccFlag[i]!='0000'):\n",
    "      # or nvflag[i] != 0:\n",
    "            \n",
    "            # or (bal_flag_vi[i] > 0) \n",
    "            # or nvflag[i] != 0\n",
    "             rm.append(i)\n",
    "    else:\n",
    "        k = k+1\n",
    "        if imw3[i] >= 4.6: j = j+1\n",
    "        if imw3[i] >= 4.6 and rew_gf[i] >= 100.0: m = m+1\n",
    "\n",
    "\n",
    "print('total T1s =',k, ', T1 ERQs =', j, ', core T1 ERQs =', m)\n",
    "\n",
    "tab.remove_rows(rm)\n",
    "out='FullSample.fits'\n",
    "if os.path.exists(out):\n",
    "      os.remove(out)\n",
    "\n",
    "tab.write(out)"
   ]
  }
 ],
 "metadata": {
  "kernelspec": {
   "display_name": "Python 3",
   "language": "python",
   "name": "python3"
  },
  "language_info": {
   "codemirror_mode": {
    "name": "ipython",
    "version": 3
   },
   "file_extension": ".py",
   "mimetype": "text/x-python",
   "name": "python",
   "nbconvert_exporter": "python",
   "pygments_lexer": "ipython3",
   "version": "3.8.3"
  }
 },
 "nbformat": 4,
 "nbformat_minor": 4
}
