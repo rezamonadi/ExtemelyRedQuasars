{
 "cells": [
  {
   "cell_type": "code",
   "execution_count": 13,
   "metadata": {},
   "outputs": [],
   "source": [
    "from sklearn.neighbors import NearestNeighbors\n",
    "from random import sample\n",
    "from numpy.random import uniform\n",
    "import numpy as np\n",
    "from math import isnan\n",
    "from astropy.table import Table, Column\n",
    "import time\n",
    "import numpy as np\n",
    "from mpl_toolkits.mplot3d import Axes3D\n",
    "import matplotlib.pyplot as plt\n",
    "import sys\n",
    "from scipy.stats import kde\n",
    "from tqdm import tqdm\n",
    "import pandas as pd\n",
    "sys.path.insert(0, '../Modules')\n",
    "import erqScaling\n",
    "import erqMedSpec\n",
    "import os\n"
   ]
  },
  {
   "cell_type": "code",
   "execution_count": 14,
   "metadata": {},
   "outputs": [
    {
     "name": "stdout",
     "output_type": "stream",
     "text": [
      "[2.48746144 1.55517281 0.24697292]\n"
     ]
    }
   ],
   "source": [
    "# Reading data\n",
    "smp=Table.read('../LumMatch/LumMatch.fits')\n",
    "\n",
    "\n",
    "iW3_0 = smp['i-w3']\n",
    "kt80_0= smp['kurt80_gf']\n",
    "rew_0 = smp['rew_gf']\n",
    "rew_0  = np.log10(rew_0)\n",
    "frat_0 = smp['frat_nv/civ']\n",
    "fwhm_0 = smp['fwhm_gf']\n",
    "rw3_0=smp['r-w3']\n",
    "rz_0=smp['r-z']\n",
    "iz_0 = iW3_0 - rw3_0 + rz_0\n",
    "Lum_0 = smp['Lum']\n",
    "z_dr12 = smp['z_dr12']\n",
    "plate = smp['Plate']\n",
    "mjd = smp['MJD']\n",
    "fiber =  smp['FiberID']\n",
    "X_0=np.array(list(zip(iW3_0, rew_0, kt80_0)))\n",
    "# (X_scaled, mean_X, std_X) = scale(X_0)\n",
    "X_sc, m, r =erqScaling.MinMaxScaler(X_0)\n",
    "X = X_0\n",
    "x_erq =  4.6  #(4.6-np.min(iW3_0))/(np.max(iW3_0)-np.min(iW3_0))\n",
    "y_erq = 2  #(2- np.min(rew_0))/(np.max(rew_0)-np.min(rew_0))\n",
    "Main_center = np.median(X, axis=0)\n",
    "ERQ= X[(iW3_0>=x_erq) & (rew_0>=y_erq)]\n",
    "\n",
    "print(Main_center)"
   ]
  },
  {
   "cell_type": "code",
   "execution_count": 15,
   "metadata": {},
   "outputs": [],
   "source": [
    "def hopkins(X):\n",
    "    d = X.shape[1]\n",
    "    #d = len(vars) # columns\n",
    "    n = len(X) # rows\n",
    "    m = int(0.1 * n) # heuristic from article [1]\n",
    "    nbrs = NearestNeighbors(n_neighbors=1).fit(X.values)\n",
    " \n",
    "    rand_X = sample(range(0, n, 1), m)\n",
    " \n",
    "    ujd = []\n",
    "    wjd = []\n",
    "    for j in range(0, m):\n",
    "        u_dist, _ = nbrs.kneighbors(uniform(np.amin(X,axis=0),np.amax(X,axis=0),d).reshape(1, -1), 2, return_distance=True)\n",
    "        ujd.append(u_dist[0][1])\n",
    "        w_dist, _ = nbrs.kneighbors(X.iloc[rand_X[j]].values.reshape(1, -1), 2, return_distance=True)\n",
    "        wjd.append(w_dist[0][1])\n",
    " \n",
    "    H = sum(ujd) / (sum(ujd) + sum(wjd))\n",
    "    if isnan(H):\n",
    "        print(ujd, wjd)\n",
    "        H = 0\n",
    " \n",
    "    return H"
   ]
  },
  {
   "cell_type": "code",
   "execution_count": 17,
   "metadata": {},
   "outputs": [
    {
     "data": {
      "text/plain": [
       "0.9452851607409187"
      ]
     },
     "execution_count": 17,
     "metadata": {},
     "output_type": "execute_result"
    }
   ],
   "source": [
    "df = pd.DataFrame(X_sc, columns = ['i-w3','rew','kt80'])\n",
    "hopkins(df)"
   ]
  },
  {
   "cell_type": "code",
   "execution_count": 18,
   "metadata": {},
   "outputs": [
    {
     "data": {
      "text/plain": [
       "0.9561779669247488"
      ]
     },
     "execution_count": 18,
     "metadata": {},
     "output_type": "execute_result"
    }
   ],
   "source": [
    "df = pd.DataFrame(X_0, columns = ['i-w3','rew','kt80'])\n",
    "hopkins(df)"
   ]
  },
  {
   "cell_type": "code",
   "execution_count": 20,
   "metadata": {},
   "outputs": [
    {
     "data": {
      "text/plain": [
       "0.9842858367555605"
      ]
     },
     "execution_count": 20,
     "metadata": {},
     "output_type": "execute_result"
    }
   ],
   "source": [
    "df = pd.DataFrame(X_sc[:,0:2], columns = ['i-w3','rew'])\n",
    "hopkins(df)"
   ]
  },
  {
   "cell_type": "code",
   "execution_count": 21,
   "metadata": {},
   "outputs": [
    {
     "data": {
      "text/plain": [
       "0.9825880558189384"
      ]
     },
     "execution_count": 21,
     "metadata": {},
     "output_type": "execute_result"
    }
   ],
   "source": [
    "df = pd.DataFrame(X_0[:,0:2], columns = ['i-w3','rew'])\n",
    "hopkins(df)"
   ]
  },
  {
   "cell_type": "code",
   "execution_count": null,
   "metadata": {},
   "outputs": [],
   "source": []
  }
 ],
 "metadata": {
  "kernelspec": {
   "display_name": "Python 3",
   "language": "python",
   "name": "python3"
  },
  "language_info": {
   "codemirror_mode": {
    "name": "ipython",
    "version": 3
   },
   "file_extension": ".py",
   "mimetype": "text/x-python",
   "name": "python",
   "nbconvert_exporter": "python",
   "pygments_lexer": "ipython3",
   "version": "3.8.3"
  }
 },
 "nbformat": 4,
 "nbformat_minor": 4
}
