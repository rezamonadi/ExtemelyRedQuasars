{
 "cells": [
  {
   "cell_type": "code",
   "execution_count": 29,
   "metadata": {},
   "outputs": [],
   "source": [
    "import numpy as np\n",
    "B =np.array([[ 1.,  3., -1,  0.,  2.,  0.,  1.,  0.,  4.,  0.],\n",
    "             [ 1.,  3., -1,  0.,  2.,  0.,  1.,  0.,  4.,  0.],\n",
    "             [ 1.,  3.,  4.,  0.,  2.,  0.,  1.,  0., -1,  0.],\n",
    "             [ 1.,  3., -1,  0.,  2.,  0.,  1.,  0.,  4.,  0.],\n",
    "             [ 2.,  3.,  0.,  1., -1,  1.,  2.,  1.,  0.,  4.]])"
   ]
  },
  {
   "cell_type": "code",
   "execution_count": 66,
   "metadata": {},
   "outputs": [
    {
     "name": "stdout",
     "output_type": "stream",
     "text": [
      "1 0.8 (array([0]),)\n",
      "3 1.0 (array([0]),)\n",
      "-1 0.6 (array([0]),)\n",
      "0 0.8 (array([0]),)\n",
      "2 0.8 (array([1]),)\n",
      "0 0.8 (array([0]),)\n",
      "1 0.8 (array([0]),)\n",
      "0 0.8 (array([0]),)\n",
      "4 0.6 (array([2]),)\n",
      "0 0.8 (array([0]),)\n"
     ]
    }
   ],
   "source": [
    "for i in range(10):\n",
    "    L = np.int32(B[:,i])\n",
    "    M = np.unique(L, return_counts=True)\n",
    "    ind_mod =np.where(M[1]==np.max(M[1]))\n",
    "    Mod = M[0][ind_mod[0][0]]\n",
    "    CI_Mod = np.max(M[1])/5\n",
    "    print(Mod, CI_Mod, ind_mod)\n",
    "   \n"
   ]
  },
  {
   "cell_type": "code",
   "execution_count": 62,
   "metadata": {},
   "outputs": [
    {
     "name": "stdout",
     "output_type": "stream",
     "text": [
      "(array([-1,  0,  1,  4]), array([1, 1, 1, 3]))\n"
     ]
    }
   ],
   "source": [
    "X = [4,4,4,-1,1,0]\n",
    "M =np.unique(X, return_counts=True)\n",
    "print(M)"
   ]
  },
  {
   "cell_type": "code",
   "execution_count": 63,
   "metadata": {},
   "outputs": [
    {
     "name": "stdout",
     "output_type": "stream",
     "text": [
      "(array([3]),)\n"
     ]
    }
   ],
   "source": [
    "ind_mod = np.where(M[1]==np.max(M[1]))\n",
    "print(ind_mod)"
   ]
  },
  {
   "cell_type": "code",
   "execution_count": 65,
   "metadata": {},
   "outputs": [
    {
     "name": "stdout",
     "output_type": "stream",
     "text": [
      "4\n"
     ]
    }
   ],
   "source": [
    "print(M[0][ind_mod[0][0]])"
   ]
  },
  {
   "cell_type": "code",
   "execution_count": null,
   "metadata": {},
   "outputs": [],
   "source": []
  },
  {
   "cell_type": "code",
   "execution_count": null,
   "metadata": {},
   "outputs": [],
   "source": []
  }
 ],
 "metadata": {
  "kernelspec": {
   "display_name": "Python 3",
   "language": "python",
   "name": "python3"
  },
  "language_info": {
   "codemirror_mode": {
    "name": "ipython",
    "version": 3
   },
   "file_extension": ".py",
   "mimetype": "text/x-python",
   "name": "python",
   "nbconvert_exporter": "python",
   "pygments_lexer": "ipython3",
   "version": "3.8.3"
  }
 },
 "nbformat": 4,
 "nbformat_minor": 4
}
