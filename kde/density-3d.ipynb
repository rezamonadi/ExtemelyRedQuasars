{
 "cells": [
  {
   "cell_type": "code",
   "execution_count": null,
   "metadata": {},
   "outputs": [],
   "source": [
    "from astropy.table import Table, Column\n",
    "import time\n",
    "import numpy as np\n",
    "from mpl_toolkits.mplot3d import Axes3D\n",
    "import matplotlib.pyplot as plt\n",
    "import sys\n",
    "from scipy.stats import kde\n",
    "from tqdm import tqdm          \n",
    "sys.path.insert(0, '../Modules')\n",
    "import erqMedSpec\n",
    "import erqScaling\n",
    "import os\n",
    "from  sklearn.neighbors import KernelDensity\n",
    "from scipy.stats import gaussian_kde\n"
   ]
  },
  {
   "cell_type": "code",
   "execution_count": null,
   "metadata": {},
   "outputs": [],
   "source": [
    "# Reading data\n",
    "smp=Table.read('../LumMatch/LumMatch.fits')\n",
    "iW3_0 = smp['i-w3']\n",
    "kt80_0= smp['kurt80_gf']\n",
    "rew_0 = smp['rew_gf']\n",
    "rew_0  = np.log10(rew_0)\n",
    "frat_0 = smp['frat_nv/civ']\n",
    "fwhm_0 = smp['fwhm_gf']\n",
    "iz_0 = iW3_0 - smp['r-w3'] + smp['r-z']\n",
    "\n",
    "data_0 = np.array(list(zip(iW3_0, rew_0, kt80_0)))"
   ]
  },
  {
   "cell_type": "code",
   "execution_count": null,
   "metadata": {},
   "outputs": [],
   "source": [
    "# Scaling data with mean and std\n",
    "data,minData,rangeData = erqScaling.MinMaxScaler(data_0)\n",
    "data=data_0\n",
    "MainCenter= np.median(data, axis=0)\n",
    "x,y,z= data.T"
   ]
  },
  {
   "cell_type": "code",
   "execution_count": null,
   "metadata": {},
   "outputs": [],
   "source": [
    "# finding ERQs\n",
    "ERQ = data[((iW3_0>=4.6) & (rew_0>=2))]\n",
    "nonERQ = data[((iW3_0<4.6) | (rew_0<2))]\n",
    "#  ERQ center\n",
    "erqCenter= np.median(ERQ, axis=0)\n",
    "#  distance of ERQ centroid from the main population centeriod \n",
    "r_erq = np.linalg.norm(erqCenter-MainCenter)\n",
    "# unit vector to ERQs center from MCL\n",
    "u_erq = erqCenter - MainCenter\n",
    "u_erq = u_erq/np.linalg.norm(u_erq)"
   ]
  },
  {
   "cell_type": "code",
   "execution_count": null,
   "metadata": {},
   "outputs": [],
   "source": [
    "# building random vector pool on unit vectors for choosing those \n",
    "# that make an angle of Omega with ERQ vector\n",
    "nPool=1000000\n",
    "l=np.linspace(-1,1,nPool)\n",
    "u_x = np.random.choice(l, nPool)\n",
    "u_y = np.random.choice(l, nPool)\n",
    "u_z = np.random.choice(l, nPool)\n",
    "v = np.array(list(zip(u_x,u_y,u_z)))\n",
    "v_normal = erqMedSpec.uniter(v)\n",
    "\n",
    "# opening angle for a specific enclosing ratio\n",
    "enclosing_ratio=0.85\n",
    "Omega, theta_erq =erqMedSpec.opening_angle_finder(ERQ=ERQ, Main_center=MainCenter,\n",
    "                                                  enclosing_ratio=enclosing_ratio, \n",
    "                                                  resolution=10000)\n",
    "print(np.rad2deg(Omega))\n",
    "\n",
    "#  Creating directions which have a deviation less than or equa Omega from ERQ vector\n",
    "ConeDirections=[]\n",
    "for i in range(len(v_normal)):\n",
    "    if(np.arccos(np.dot(v_normal[i], u_erq))<=Omega):\n",
    "        ConeDirections.append(v_normal[i])\n",
    "ConeDirections.append(u_erq)\n",
    "ConeDirections=np.array(ConeDirections)\n",
    "print(len(ConeDirections))\n",
    "\n",
    "# Cone vectors are vectors as long as erq vector extended length \n",
    "# vectors which we are going to calculate density along\n",
    "extention=1.3\n",
    "ConeVectors = ConeDirections*r_erq*extention + MainCenter\n",
    "xf_cone, yf_cone, zf_cone= ConeVectors[:,0], ConeVectors[:,1], ConeVectors[:,2]\n",
    "angle=np.rad2deg(np.arccos(np.dot(ConeDirections,u_erq)))\n",
    "\n",
    "plt.hist(angle)\n",
    "print(np.nanmin(angle), np.nanmax(angle))"
   ]
  },
  {
   "cell_type": "code",
   "execution_count": null,
   "metadata": {},
   "outputs": [],
   "source": [
    "#   density in 3d  for different bandwidths\n",
    "lineSegment=100; nBootStrap=10\n",
    "# den_med=np.zeros([ lineSegment])\n",
    "# den_med=np.loadtxt('den-med-3d.txt')\n",
    "r = np.linspace(0,extention, lineSegment) # normalized distance from MCl to any cone point by r_erq\n",
    "# %matplotlib\n",
    "kde= gaussian_kde(data.T)\n",
    "bw= kde.factor"
   ]
  },
  {
   "cell_type": "code",
   "execution_count": null,
   "metadata": {},
   "outputs": [],
   "source": [
    "# BootStarp resampling\n",
    "from sklearn.model_selection import train_test_split\n",
    "den_ens=[]\n",
    "\n",
    "for ensemble in tqdm(range(nBootStrap)):\n",
    "    print(ensemble)\n",
    "    test_ind = np.random.choice(range(len(data)), len(data), replace=True)\n",
    "    \n",
    "#     data_boot = data[test_ind,:]\n",
    "#     kde =gaussian_kde(data_boot.T)\n",
    "#     kde.set_bandwidth(bw)\n",
    "    den_con=[]\n",
    "    for i in (range(len(xf_cone))):\n",
    "        x=np.linspace(MainCenter[0],xf_cone[i], lineSegment)\n",
    "        y=np.linspace(MainCenter[1],yf_cone[i], lineSegment)\n",
    "        z=np.linspace(MainCenter[2],zf_cone[i], lineSegment)\n",
    "        line = np.array(list(zip(x,y,z)))\n",
    "        density = kde(line.T)\n",
    "        den_con.append(density) \n",
    "        #density for each point along a line stored in a row of density_cone\n",
    "\n",
    "    d = np.median(den_con, axis=0)\n",
    "    den_ens.append(d)\n",
    "        # median of each column gives the median density for a specific radius from center \n",
    "np.savetxt('BootStrapDensity-3d.dat', den_ens)"
   ]
  },
  {
   "cell_type": "code",
   "execution_count": null,
   "metadata": {},
   "outputs": [],
   "source": [
    "# Full sample kde\n",
    "kde = gaussian_kde(data.T)\n",
    "kde.set_bandwidth(bw)\n",
    "den_max = max(kde(data.T))\n",
    "den_con = []\n",
    "for i in tqdm(range(len(xf_cone))):\n",
    "    x=np.linspace(MainCenter[0],xf_cone[i], lineSegment)\n",
    "    y=np.linspace(MainCenter[1],yf_cone[i], lineSegment)\n",
    "    z=np.linspace(MainCenter[2],zf_cone[i], lineSegment)\n",
    "    line = np.array(list(zip(x,y,z)))\n",
    "    density = kde(line.T)\n",
    "    den_con.append(density)\n",
    "\n",
    "d_full = np.median(den_con, axis=0)"
   ]
  },
  {
   "cell_type": "code",
   "execution_count": null,
   "metadata": {},
   "outputs": [],
   "source": [
    "# Plotting\n",
    "den_med = np.loadtxt('BootStrapDensity-3d.dat')\n",
    "cc=0\n",
    "strat=20\n",
    "\n",
    "for i in range(len(den_ens)):\n",
    "    \n",
    "   \n",
    "    plt.plot(r, np.log10(den_ens[i]), alpha=0.5, lw=1, c='gray')\n",
    "\n",
    "# den_med = np.median(den_con, axis=0)\n",
    "plt.plot(r, np.log10(d_full), alpha=1, lw=2)\n",
    "plt.xlabel(r'r/r$_{CERQ}$')\n",
    "plt.ylabel(r'$log_{10}(\\rho/\\rho_{max})$' )\n",
    "plt.title('r=%.2f, bw=%.2f' %(enclosing_ratio,bw))\n",
    "plt.savefig('cone-3d-density-bw-%.2f.pdf' %(bw))\n",
    "plt.show()\n",
    "# np.savetxt('den-med-3d.txt', den_med)"
   ]
  },
  {
   "cell_type": "code",
   "execution_count": null,
   "metadata": {},
   "outputs": [],
   "source": [
    "plt.plot(np.log10(den_med[3]), alpha=1, lw=2)\n"
   ]
  },
  {
   "cell_type": "code",
   "execution_count": null,
   "metadata": {},
   "outputs": [],
   "source": []
  }
 ],
 "metadata": {
  "kernelspec": {
   "display_name": "Python 3",
   "language": "python",
   "name": "python3"
  },
  "language_info": {
   "codemirror_mode": {
    "name": "ipython",
    "version": 3
   },
   "file_extension": ".py",
   "mimetype": "text/x-python",
   "name": "python",
   "nbconvert_exporter": "python",
   "pygments_lexer": "ipython3",
   "version": "3.8.3"
  }
 },
 "nbformat": 4,
 "nbformat_minor": 4
}
