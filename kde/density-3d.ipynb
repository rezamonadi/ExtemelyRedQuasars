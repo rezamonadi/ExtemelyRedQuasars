{
 "cells": [
  {
   "cell_type": "code",
   "execution_count": 7,
   "metadata": {},
   "outputs": [],
   "source": [
    "from astropy.table import Table, Column\n",
    "import time\n",
    "import numpy as np\n",
    "from mpl_toolkits.mplot3d import Axes3D\n",
    "import matplotlib.pyplot as plt\n",
    "import sys\n",
    "from scipy.stats import kde\n",
    "from tqdm import tqdm          \n",
    "sys.path.insert(0, '../Modules')\n",
    "import erqMedSpec\n",
    "import erqScaling\n",
    "import os\n",
    "from  sklearn.neighbors import KernelDensity\n",
    "from scipy.stats import gaussian_kde\n"
   ]
  },
  {
   "cell_type": "code",
   "execution_count": 8,
   "metadata": {},
   "outputs": [],
   "source": [
    "# Reading data\n",
    "smp=Table.read('../LumMatch/LumMatch.fits')\n",
    "iW3_0 = smp['i-w3']\n",
    "kt80_0= smp['kurt80_gf']\n",
    "rew_0 = smp['rew_gf']\n",
    "rew_0  = np.log10(rew_0)\n",
    "frat_0 = smp['frat_nv/civ']\n",
    "fwhm_0 = smp['fwhm_gf']\n",
    "iz_0 = iW3_0 - smp['r-w3'] + smp['r-z']\n",
    "\n",
    "data_0 = np.array(list(zip(iW3_0, rew_0, kt80_0)))"
   ]
  },
  {
   "cell_type": "code",
   "execution_count": 9,
   "metadata": {},
   "outputs": [],
   "source": [
    "# Scaling data with mean and std\n",
    "data,minData,rangeData = erqScaling.MinMaxScaler(data_0)\n",
    "data=data_0\n",
    "MainCenter= np.median(data, axis=0)\n",
    "x,y,z= data.T"
   ]
  },
  {
   "cell_type": "code",
   "execution_count": 10,
   "metadata": {},
   "outputs": [],
   "source": [
    "# finding ERQs\n",
    "ERQ = data[((iW3_0>=4.6) & (rew_0>=2))]\n",
    "nonERQ = data[((iW3_0<4.6) | (rew_0<2))]\n",
    "#  ERQ center\n",
    "erqCenter= np.median(ERQ, axis=0)\n",
    "#  distance of ERQ centroid from the main population centeriod \n",
    "r_erq = np.linalg.norm(erqCenter-MainCenter)\n",
    "# unit vector to ERQs center from MCL\n",
    "u_erq = erqCenter - MainCenter\n",
    "u_erq = u_erq/np.linalg.norm(u_erq)"
   ]
  },
  {
   "cell_type": "code",
   "execution_count": 11,
   "metadata": {},
   "outputs": [
    {
     "name": "stdout",
     "output_type": "stream",
     "text": [
      "4.751156800229035\n",
      "2919\n",
      "1.2074182697257333e-06 4.750600888657177\n"
     ]
    },
    {
     "data": {
      "image/png": "[encoded data removed]",
      "text/plain": [
       "<Figure size 432x288 with 1 Axes>"
      ]
     },
     "metadata": {
      "needs_background": "light"
     },
     "output_type": "display_data"
    }
   ],
   "source": [
    "# building random vector pool on unit vectors for choosing those \n",
    "# that make an angle of Omega with ERQ vector\n",
    "nPool=3000000\n",
    "l=np.linspace(-1,1,nPool)\n",
    "u_x = np.random.choice(l, nPool)\n",
    "u_y = np.random.choice(l, nPool)\n",
    "u_z = np.random.choice(l, nPool)\n",
    "v = np.array(list(zip(u_x,u_y,u_z)))\n",
    "v_normal = erqMedSpec.uniter(v)\n",
    "\n",
    "# opening angle for a specific enclosing ratio\n",
    "enclosing_ratio=0.85\n",
    "Omega, theta_erq =erqMedSpec.opening_angle_finder(ERQ=ERQ, Main_center=MainCenter,\n",
    "                                                  enclosing_ratio=enclosing_ratio, \n",
    "                                                  resolution=10000)\n",
    "print(np.rad2deg(Omega))\n",
    "\n",
    "#  Creating directions which have a deviation less than or equa Omega from ERQ vector\n",
    "ConeDirections=[]\n",
    "for i in range(len(v_normal)):\n",
    "    if(np.arccos(np.dot(v_normal[i], u_erq))<=Omega):\n",
    "        ConeDirections.append(v_normal[i])\n",
    "ConeDirections.append(u_erq)\n",
    "ConeDirections=np.array(ConeDirections)\n",
    "print(len(ConeDirections))\n",
    "\n",
    "# Cone vectors are vectors as long as erq vector extended length \n",
    "# vectors which we are going to calculate density along\n",
    "extention=1.3\n",
    "ConeVectors = ConeDirections*r_erq*extention + MainCenter\n",
    "xf_cone, yf_cone, zf_cone= ConeVectors[:,0], ConeVectors[:,1], ConeVectors[:,2]\n",
    "angle=np.rad2deg(np.arccos(np.dot(ConeDirections,u_erq)))\n",
    "\n",
    "plt.hist(angle)\n",
    "print(np.nanmin(angle), np.nanmax(angle))"
   ]
  },
  {
   "cell_type": "code",
   "execution_count": 12,
   "metadata": {},
   "outputs": [],
   "source": [
    "#   density in 3d  for different bandwidths\n",
    "lineSegment=200; nBootStrap=20\n",
    "# den_med=np.zeros([ lineSegment])\n",
    "# den_med=np.loadtxt('den-med-3d.txt')\n",
    "r = np.linspace(0,extention, lineSegment) # normalized distance from MCl to any cone point by r_erq\n",
    "# %matplotlib\n",
    "kde= gaussian_kde(data.T)\n",
    "bw= kde.factor"
   ]
  },
  {
   "cell_type": "code",
   "execution_count": null,
   "metadata": {},
   "outputs": [],
   "source": [
    "# BootStarp resampling\n",
    "from sklearn.model_selection import train_test_split\n",
    "den_ens=[]\n",
    "for ensemble in (range(nBootStrap)):\n",
    "    print(ensemble)\n",
    "    data_1, data_2 = train_test_split(data, test_size=0.5)\n",
    "    for data_c in [data_1, data_2]:\n",
    "        kde =gaussian_kde(data_c.T)\n",
    "        kde.set_bandwidth(bw)\n",
    "        den_con=[]\n",
    "        for i in tqdm(range(len(xf_cone))):\n",
    "            x=np.linspace(MainCenter[0],xf_cone[i], lineSegment)\n",
    "            y=np.linspace(MainCenter[1],yf_cone[i], lineSegment)\n",
    "            z=np.linspace(MainCenter[2],zf_cone[i], lineSegment)\n",
    "            line = np.array(list(zip(x,y,z)))\n",
    "            density = kde(line.T)\n",
    "            den_con.append(density) \n",
    "            #density for each point along a line stored in a row of density_cone\n",
    "\n",
    "        d = np.median(den_con, axis=0)\n",
    "        den_ens.append(d)\n",
    "        # median of each column gives the median density for a secific radius from center \n",
    "np.savetxt('BootStrapDensity-3d.dat',den_ens)"
   ]
  },
  {
   "cell_type": "code",
   "execution_count": 13,
   "metadata": {},
   "outputs": [
    {
     "name": "stderr",
     "output_type": "stream",
     "text": [
      "  3%|▎         | 83/2919 [00:10<06:09,  7.68it/s]"
     ]
    },
    {
     "ename": "KeyboardInterrupt",
     "evalue": "",
     "output_type": "error",
     "traceback": [
      "\u001b[0;31m---------------------------------------------------------------------------\u001b[0m",
      "\u001b[0;31mKeyboardInterrupt\u001b[0m                         Traceback (most recent call last)",
      "\u001b[0;32m<ipython-input-13-8c2465cb81c2>\u001b[0m in \u001b[0;36m<module>\u001b[0;34m\u001b[0m\n\u001b[1;32m      9\u001b[0m     \u001b[0mz\u001b[0m\u001b[0;34m=\u001b[0m\u001b[0mnp\u001b[0m\u001b[0;34m.\u001b[0m\u001b[0mlinspace\u001b[0m\u001b[0;34m(\u001b[0m\u001b[0mMainCenter\u001b[0m\u001b[0;34m[\u001b[0m\u001b[0;36m2\u001b[0m\u001b[0;34m]\u001b[0m\u001b[0;34m,\u001b[0m\u001b[0mzf_cone\u001b[0m\u001b[0;34m[\u001b[0m\u001b[0mi\u001b[0m\u001b[0;34m]\u001b[0m\u001b[0;34m,\u001b[0m \u001b[0mlineSegment\u001b[0m\u001b[0;34m)\u001b[0m\u001b[0;34m\u001b[0m\u001b[0;34m\u001b[0m\u001b[0m\n\u001b[1;32m     10\u001b[0m     \u001b[0mline\u001b[0m \u001b[0;34m=\u001b[0m \u001b[0mnp\u001b[0m\u001b[0;34m.\u001b[0m\u001b[0marray\u001b[0m\u001b[0;34m(\u001b[0m\u001b[0mlist\u001b[0m\u001b[0;34m(\u001b[0m\u001b[0mzip\u001b[0m\u001b[0;34m(\u001b[0m\u001b[0mx\u001b[0m\u001b[0;34m,\u001b[0m\u001b[0my\u001b[0m\u001b[0;34m,\u001b[0m\u001b[0mz\u001b[0m\u001b[0;34m)\u001b[0m\u001b[0;34m)\u001b[0m\u001b[0;34m)\u001b[0m\u001b[0;34m\u001b[0m\u001b[0;34m\u001b[0m\u001b[0m\n\u001b[0;32m---> 11\u001b[0;31m     \u001b[0mdensity\u001b[0m \u001b[0;34m=\u001b[0m \u001b[0mkde\u001b[0m\u001b[0;34m(\u001b[0m\u001b[0mline\u001b[0m\u001b[0;34m.\u001b[0m\u001b[0mT\u001b[0m\u001b[0;34m)\u001b[0m\u001b[0;34m\u001b[0m\u001b[0;34m\u001b[0m\u001b[0m\n\u001b[0m\u001b[1;32m     12\u001b[0m     \u001b[0mden_con\u001b[0m\u001b[0;34m.\u001b[0m\u001b[0mappend\u001b[0m\u001b[0;34m(\u001b[0m\u001b[0mdensity\u001b[0m\u001b[0;34m)\u001b[0m\u001b[0;34m\u001b[0m\u001b[0;34m\u001b[0m\u001b[0m\n",
      "\u001b[0;32m~/anaconda3/lib/python3.7/site-packages/scipy/stats/kde.py\u001b[0m in \u001b[0;36mevaluate\u001b[0;34m(self, points)\u001b[0m\n\u001b[1;32m    259\u001b[0m                 \u001b[0mdiff\u001b[0m \u001b[0;34m=\u001b[0m \u001b[0mscaled_dataset\u001b[0m \u001b[0;34m-\u001b[0m \u001b[0mscaled_points\u001b[0m\u001b[0;34m[\u001b[0m\u001b[0;34m:\u001b[0m\u001b[0;34m,\u001b[0m \u001b[0mi\u001b[0m\u001b[0;34m,\u001b[0m \u001b[0mnewaxis\u001b[0m\u001b[0;34m]\u001b[0m\u001b[0;34m\u001b[0m\u001b[0;34m\u001b[0m\u001b[0m\n\u001b[1;32m    260\u001b[0m                 \u001b[0menergy\u001b[0m \u001b[0;34m=\u001b[0m \u001b[0msum\u001b[0m\u001b[0;34m(\u001b[0m\u001b[0mdiff\u001b[0m \u001b[0;34m*\u001b[0m \u001b[0mdiff\u001b[0m\u001b[0;34m,\u001b[0m \u001b[0maxis\u001b[0m\u001b[0;34m=\u001b[0m\u001b[0;36m0\u001b[0m\u001b[0;34m)\u001b[0m \u001b[0;34m/\u001b[0m \u001b[0;36m2.0\u001b[0m\u001b[0;34m\u001b[0m\u001b[0;34m\u001b[0m\u001b[0m\n\u001b[0;32m--> 261\u001b[0;31m                 \u001b[0mresult\u001b[0m\u001b[0;34m[\u001b[0m\u001b[0mi\u001b[0m\u001b[0;34m]\u001b[0m \u001b[0;34m=\u001b[0m \u001b[0msum\u001b[0m\u001b[0;34m(\u001b[0m\u001b[0mexp\u001b[0m\u001b[0;34m(\u001b[0m\u001b[0;34m-\u001b[0m\u001b[0menergy\u001b[0m\u001b[0;34m)\u001b[0m\u001b[0;34m*\u001b[0m\u001b[0mself\u001b[0m\u001b[0;34m.\u001b[0m\u001b[0mweights\u001b[0m\u001b[0;34m,\u001b[0m \u001b[0maxis\u001b[0m\u001b[0;34m=\u001b[0m\u001b[0;36m0\u001b[0m\u001b[0;34m)\u001b[0m\u001b[0;34m\u001b[0m\u001b[0;34m\u001b[0m\u001b[0m\n\u001b[0m\u001b[1;32m    262\u001b[0m \u001b[0;34m\u001b[0m\u001b[0m\n\u001b[1;32m    263\u001b[0m         \u001b[0mresult\u001b[0m \u001b[0;34m=\u001b[0m \u001b[0mresult\u001b[0m \u001b[0;34m/\u001b[0m \u001b[0mself\u001b[0m\u001b[0;34m.\u001b[0m\u001b[0m_norm_factor\u001b[0m\u001b[0;34m\u001b[0m\u001b[0;34m\u001b[0m\u001b[0m\n",
      "\u001b[0;32m<__array_function__ internals>\u001b[0m in \u001b[0;36msum\u001b[0;34m(*args, **kwargs)\u001b[0m\n",
      "\u001b[0;32m~/anaconda3/lib/python3.7/site-packages/numpy/core/fromnumeric.py\u001b[0m in \u001b[0;36msum\u001b[0;34m(a, axis, dtype, out, keepdims, initial, where)\u001b[0m\n\u001b[1;32m   2227\u001b[0m \u001b[0;34m\u001b[0m\u001b[0m\n\u001b[1;32m   2228\u001b[0m     return _wrapreduction(a, np.add, 'sum', axis, dtype, out, keepdims=keepdims,\n\u001b[0;32m-> 2229\u001b[0;31m                           initial=initial, where=where)\n\u001b[0m\u001b[1;32m   2230\u001b[0m \u001b[0;34m\u001b[0m\u001b[0m\n\u001b[1;32m   2231\u001b[0m \u001b[0;34m\u001b[0m\u001b[0m\n",
      "\u001b[0;32m~/anaconda3/lib/python3.7/site-packages/numpy/core/fromnumeric.py\u001b[0m in \u001b[0;36m_wrapreduction\u001b[0;34m(obj, ufunc, method, axis, dtype, out, **kwargs)\u001b[0m\n\u001b[1;32m     88\u001b[0m                 \u001b[0;32mreturn\u001b[0m \u001b[0mreduction\u001b[0m\u001b[0;34m(\u001b[0m\u001b[0maxis\u001b[0m\u001b[0;34m=\u001b[0m\u001b[0maxis\u001b[0m\u001b[0;34m,\u001b[0m \u001b[0mout\u001b[0m\u001b[0;34m=\u001b[0m\u001b[0mout\u001b[0m\u001b[0;34m,\u001b[0m \u001b[0;34m**\u001b[0m\u001b[0mpasskwargs\u001b[0m\u001b[0;34m)\u001b[0m\u001b[0;34m\u001b[0m\u001b[0;34m\u001b[0m\u001b[0m\n\u001b[1;32m     89\u001b[0m \u001b[0;34m\u001b[0m\u001b[0m\n\u001b[0;32m---> 90\u001b[0;31m     \u001b[0;32mreturn\u001b[0m \u001b[0mufunc\u001b[0m\u001b[0;34m.\u001b[0m\u001b[0mreduce\u001b[0m\u001b[0;34m(\u001b[0m\u001b[0mobj\u001b[0m\u001b[0;34m,\u001b[0m \u001b[0maxis\u001b[0m\u001b[0;34m,\u001b[0m \u001b[0mdtype\u001b[0m\u001b[0;34m,\u001b[0m \u001b[0mout\u001b[0m\u001b[0;34m,\u001b[0m \u001b[0;34m**\u001b[0m\u001b[0mpasskwargs\u001b[0m\u001b[0;34m)\u001b[0m\u001b[0;34m\u001b[0m\u001b[0;34m\u001b[0m\u001b[0m\n\u001b[0m\u001b[1;32m     91\u001b[0m \u001b[0;34m\u001b[0m\u001b[0m\n\u001b[1;32m     92\u001b[0m \u001b[0;34m\u001b[0m\u001b[0m\n",
      "\u001b[0;31mKeyboardInterrupt\u001b[0m: "
     ]
    }
   ],
   "source": [
    "# Full sample kde\n",
    "kde = gaussian_kde(data.T)\n",
    "kde.set_bandwidth(bw)\n",
    "den_max = max(kde(data.T))\n",
    "den_con = []\n",
    "for i in tqdm(range(len(xf_cone))):\n",
    "    x=np.linspace(MainCenter[0],xf_cone[i], lineSegment)\n",
    "    y=np.linspace(MainCenter[1],yf_cone[i], lineSegment)\n",
    "    z=np.linspace(MainCenter[2],zf_cone[i], lineSegment)\n",
    "    line = np.array(list(zip(x,y,z)))\n",
    "    density = kde(line.T)\n",
    "    den_con.append(density)"
   ]
  },
  {
   "cell_type": "code",
   "execution_count": 25,
   "metadata": {},
   "outputs": [
    {
     "data": {
      "image/png": "[encoded data removed]",
      "text/plain": [
       "<Figure size 432x288 with 1 Axes>"
      ]
     },
     "metadata": {
      "needs_background": "light"
     },
     "output_type": "display_data"
    }
   ],
   "source": [
    "# Plotting\n",
    "den_med = np.loadtxt('den-med-3d.txt')\n",
    "cc=0\n",
    "strat=20\n",
    "for j in range(6):\n",
    "    den_ens =np.loadtxt('B%d.dat'%j)\n",
    "    for i in range(len(den_ens)):\n",
    "        cc+=1\n",
    "        if(np.log10(den_ens[i][-15])>=1.01*np.log10(den_med[-15])): \n",
    "            plt.plot(r[strat:-1], np.log10(den_ens[i][strat:-1]/np.max(den_ens[i][:])), alpha=0.5, lw=.5, c='gray')\n",
    "\n",
    "# den_med = np.median(den_con, axis=0)\n",
    "plt.plot(r[strat:-1], np.log10(den_med[strat:-1]/np.max(den_med)), alpha=1, lw=2)\n",
    "plt.xlabel(r'r/r$_{CERQ}$')\n",
    "plt.ylabel(r'$log_{10}(\\rho/\\rho_{max})$' )\n",
    "plt.title('r=%.2f, bw=%.2f' %(enclosing_ratio,bw))\n",
    "plt.savefig('cone-3d-density-bw-%.2f.pdf' %(bw))\n",
    "# np.savetxt('den-med-3d.txt', den_med)"
   ]
  },
  {
   "cell_type": "code",
   "execution_count": 68,
   "metadata": {},
   "outputs": [
    {
     "data": {
      "text/plain": [
       "(array([153]),)"
      ]
     },
     "execution_count": 68,
     "metadata": {},
     "output_type": "execute_result"
    }
   ],
   "source": [
    "np.where(abs(r-1)<0.001)"
   ]
  },
  {
   "cell_type": "code",
   "execution_count": 18,
   "metadata": {},
   "outputs": [
    {
     "data": {
      "text/plain": [
       "200"
      ]
     },
     "execution_count": 18,
     "metadata": {},
     "output_type": "execute_result"
    }
   ],
   "source": [
    "lineSegment"
   ]
  },
  {
   "cell_type": "code",
   "execution_count": null,
   "metadata": {},
   "outputs": [],
   "source": []
  }
 ],
 "metadata": {
  "kernelspec": {
   "display_name": "Python 3",
   "language": "python",
   "name": "python3"
  },
  "language_info": {
   "codemirror_mode": {
    "name": "ipython",
    "version": 3
   },
   "file_extension": ".py",
   "mimetype": "text/x-python",
   "name": "python",
   "nbconvert_exporter": "python",
   "pygments_lexer": "ipython3",
   "version": "3.7.6"
  }
 },
 "nbformat": 4,
 "nbformat_minor": 4
}
