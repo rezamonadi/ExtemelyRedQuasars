{
 "cells": [
  {
   "cell_type": "code",
   "execution_count": 1,
   "metadata": {},
   "outputs": [
    {
     "name": "stderr",
     "output_type": "stream",
     "text": [
      "/home/reza/anaconda3/lib/python3.7/site-packages/pyfits/__init__.py:22: PyFITSDeprecationWarning: PyFITS is deprecated, please use astropy.io.fits\n",
      "  PyFITSDeprecationWarning)  # noqa\n"
     ]
    }
   ],
   "source": [
    "from astropy.table import Table, Column\n",
    "import time\n",
    "import numpy as np\n",
    "from mpl_toolkits.mplot3d import Axes3D\n",
    "import matplotlib.pyplot as plt\n",
    "import sys\n",
    "from scipy.stats import kde\n",
    "from tqdm import tqdm          \n",
    "sys.path.insert(0, '/home/reza/erq/')\n",
    "from erqml import *\n",
    "import os\n",
    "from  sklearn.neighbors import KernelDensity\n",
    "from scipy.stats import gaussian_kde\n"
   ]
  },
  {
   "cell_type": "code",
   "execution_count": 20,
   "metadata": {},
   "outputs": [
    {
     "name": "stdout",
     "output_type": "stream",
     "text": [
      "16.426093457441183\n"
     ]
    }
   ],
   "source": [
    "# Reading data\n",
    "# smp=Table.read('/home/reza/erq/sampling/org_sample2.fits')\n",
    "smp=Table.read('/home/reza/erq/sampling/LM_sample.fits')\n",
    "iW3_0 = smp['i-w3']\n",
    "kt80_0= smp['kurt80_gf']\n",
    "rew_0 = smp['rew_gf']\n",
    "rew_0  = np.log10(rew_0)\n",
    "frat_0 = smp['frat_nv/civ']\n",
    "fwhm_0 = smp['fwhm_gf']\n",
    "iz_0 = iW3_0 - smp['r-w3'] + smp['r-z']\n",
    "\n",
    "data_0 = np.array(list(zip(iW3_0, rew_0, kt80_0, frat_0)))\n",
    "# Scaling data with mean and std\n",
    "data,minData,rangeData = MinMaxScaler(data_0)\n",
    "MainCenter= np.median(data, axis=0)\n",
    "x,y,z, w= data.T\n",
    "# finding ERQs\n",
    "ERQ = data[((iW3_0>4.6) & (rew_0>2))]\n",
    "nonERQ = data[((iW3_0<4.6) | (rew_0<2))]\n",
    "#  ERQ center\n",
    "erqCenter= np.median(ERQ, axis=0)\n",
    "#  distance of ERQ centroid from the main population centeriod \n",
    "r_erq = np.linalg.norm(erqCenter-MainCenter)\n",
    "# unit vector to ERQs center from MCL\n",
    "u_erq = erqCenter - MainCenter\n",
    "u_erq = u_erq/np.linalg.norm(u_erq)\n",
    "# building random vector pool on unit vectors for choosing those that make an angle of Omega with ERQ vector\n",
    "nPool=500000\n",
    "l=np.linspace(-1,1,nPool)\n",
    "u_x = np.random.choice(l, nPool)\n",
    "u_y = np.random.choice(l, nPool)\n",
    "u_z = np.random.choice(l, nPool)\n",
    "u_w = np.random.choice(l, nPool)\n",
    "v = np.array(list(zip(u_x,u_y,u_z, u_w)))\n",
    "v_normal = uniter(v)\n",
    "\n",
    "# opening angle for a specific enclosing ratio\n",
    "Omega, dummy =opening_angle_finder(ERQ=ERQ, Main_center=MainCenter, enclosing_ratio=0.75, resolution=10000)\n",
    "print(np.rad2deg(Omega))"
   ]
  },
  {
   "cell_type": "code",
   "execution_count": 21,
   "metadata": {},
   "outputs": [
    {
     "name": "stdout",
     "output_type": "stream",
     "text": [
      "3361\n"
     ]
    }
   ],
   "source": [
    "#  Creating directions which have a deviation less than or equa Omega from ERQ vector\n",
    "ConeDirections=[]\n",
    "for i in range(len(v_normal)):\n",
    "    if(np.arccos(np.dot(v_normal[i], u_erq))<=Omega):\n",
    "        ConeDirections.append(v_normal[i])\n",
    "ConeDirections.append(u_erq)\n",
    "ConeDirections=np.array(ConeDirections)\n",
    "print(len(ConeDirections))"
   ]
  },
  {
   "cell_type": "code",
   "execution_count": 22,
   "metadata": {},
   "outputs": [],
   "source": [
    "# Cone vectors are vectors as long as erq vector extended length \n",
    "# vectors which we are going to calculate density along\n",
    "extention=1.3\n",
    "ConeVectors = ConeDirections*r_erq*extention + MainCenter\n"
   ]
  },
  {
   "cell_type": "code",
   "execution_count": 23,
   "metadata": {},
   "outputs": [
    {
     "data": {
      "text/plain": [
       "(array([  6.,  24.,  81., 137., 212., 337., 436., 586., 702., 840.]),\n",
       " array([ 0.        ,  1.64255177,  3.28510355,  4.92765532,  6.5702071 ,\n",
       "         8.21275887,  9.85531065, 11.49786242, 13.14041419, 14.78296597,\n",
       "        16.42551774]),\n",
       " <a list of 10 Patch objects>)"
      ]
     },
     "execution_count": 23,
     "metadata": {},
     "output_type": "execute_result"
    },
    {
     "data": {
      "image/png": "[encoded data removed]",
      "text/plain": [
       "<Figure size 432x288 with 1 Axes>"
      ]
     },
     "metadata": {
      "needs_background": "light"
     },
     "output_type": "display_data"
    }
   ],
   "source": [
    "xf_cone, yf_cone, zf_cone, wf_cone= ConeVectors[:,0], ConeVectors[:,1], ConeVectors[:,2], ConeVectors[:,3]\n",
    "angle=np.rad2deg(np.arccos(np.dot(ConeDirections,u_erq)))\n",
    "\n",
    "plt.hist(angle)"
   ]
  },
  {
   "cell_type": "code",
   "execution_count": 24,
   "metadata": {},
   "outputs": [
    {
     "name": "stdout",
     "output_type": "stream",
     "text": [
      "0.0 16.42551774215588 16.426093457441183\n"
     ]
    }
   ],
   "source": [
    "print(np.nanmin(angle), np.nanmax(angle), np.rad2deg(Omega))"
   ]
  },
  {
   "cell_type": "code",
   "execution_count": 25,
   "metadata": {
    "scrolled": true
   },
   "outputs": [
    {
     "name": "stderr",
     "output_type": "stream",
     "text": [
      "  0%|          | 2/3361 [00:00<04:35, 12.20it/s]"
     ]
    },
    {
     "name": "stdout",
     "output_type": "stream",
     "text": [
      "1\n"
     ]
    },
    {
     "name": "stderr",
     "output_type": "stream",
     "text": [
      "100%|██████████| 3361/3361 [06:12<00:00,  9.02it/s]\n"
     ]
    },
    {
     "name": "stdout",
     "output_type": "stream",
     "text": [
      "(3, 100)\n"
     ]
    },
    {
     "data": {
      "image/png": "[encoded data removed]",
      "text/plain": [
       "<Figure size 432x288 with 1 Axes>"
      ]
     },
     "metadata": {
      "needs_background": "light"
     },
     "output_type": "display_data"
    }
   ],
   "source": [
    "#   density in 3d  for different bandwidths\n",
    "ngrid=100\n",
    "den_med=np.zeros([3, ngrid])\n",
    "# den_med = np.loadtxt('den-med-4d.txt')\n",
    "j=-1\n",
    "r = np.linspace(0,extention, ngrid)\n",
    "\n",
    "for bw in [1]:\n",
    "    j+=1\n",
    "    kde= gaussian_kde(data.T)\n",
    "    kde.set_bandwidth(bw_method=kde.factor*bw)\n",
    "    den_max = max(kde(data.T))\n",
    "    den_con=[]\n",
    "    print(bw)\n",
    "    for i in tqdm(range(len(xf_cone))):\n",
    "        x=np.linspace(MainCenter[0],xf_cone[i], ngrid)\n",
    "        y=np.linspace(MainCenter[1],yf_cone[i], ngrid)\n",
    "        z=np.linspace(MainCenter[2],zf_cone[i], ngrid)\n",
    "        w=np.linspace(MainCenter[3],zf_cone[i], ngrid)\n",
    "        line = np.array(list(zip(x,y,z,w)))\n",
    "        density= kde(line.T)\n",
    "        den_con.append(density)\n",
    "        \n",
    "\n",
    "    den_med[j,:] = np.median(den_con, axis=0)\n",
    "    print(den_med.shape)\n",
    "    plt.semilogy(r[0:90], den_med[j,0:90]/den_max, alpha=0.7, label='bandwidth=%.2f' %(kde.factor*bw))\n",
    "plt.legend()\n",
    "plt.xlabel(r'r/r$_{CERQ}$')\n",
    "plt.ylabel(r'$PDF(r)/PDF_{max}$')\n",
    "plt.title(r'4D, $\\Omega=%.2f^{\\circ}$' %(np.rad2deg(Omega)))\n",
    "plt.savefig('cone-4d-density-nTri%d.pdf' %(nPool))\n",
    "# plt.show()\n",
    "np.savetxt('den-med-4d.txt', den_med)"
   ]
  },
  {
   "cell_type": "code",
   "execution_count": 8,
   "metadata": {},
   "outputs": [],
   "source": [
    "cp cone-4d-density-nTri200000.pdf ../../paper/fig/"
   ]
  },
  {
   "cell_type": "code",
   "execution_count": 16,
   "metadata": {},
   "outputs": [
    {
     "data": {
      "text/plain": [
       "2.0942787727437423e-131"
      ]
     },
     "execution_count": 16,
     "metadata": {},
     "output_type": "execute_result"
    }
   ],
   "source": [
    "min(den_med[1,:]/den_max)"
   ]
  },
  {
   "cell_type": "code",
   "execution_count": 11,
   "metadata": {},
   "outputs": [
    {
     "data": {
      "text/plain": [
       "446.51028956794283"
      ]
     },
     "execution_count": 11,
     "metadata": {},
     "output_type": "execute_result"
    }
   ],
   "source": [
    "den_max"
   ]
  },
  {
   "cell_type": "code",
   "execution_count": 19,
   "metadata": {},
   "outputs": [
    {
     "data": {
      "text/plain": [
       "[<matplotlib.lines.Line2D at 0x7fa61d4a3510>]"
      ]
     },
     "execution_count": 19,
     "metadata": {},
     "output_type": "execute_result"
    },
    {
     "data": {
      "image/png": "[encoded data removed]",
      "text/plain": [
       "<Figure size 432x288 with 1 Axes>"
      ]
     },
     "metadata": {
      "needs_background": "light"
     },
     "output_type": "display_data"
    }
   ],
   "source": [
    "plt.semilogy(r, den_med[2,:]/den_max)"
   ]
  },
  {
   "cell_type": "code",
   "execution_count": 15,
   "metadata": {},
   "outputs": [
    {
     "data": {
      "text/plain": [
       "547.0380673036794"
      ]
     },
     "execution_count": 15,
     "metadata": {},
     "output_type": "execute_result"
    }
   ],
   "source": [
    "den_med[0,0]"
   ]
  },
  {
   "cell_type": "code",
   "execution_count": null,
   "metadata": {},
   "outputs": [],
   "source": []
  }
 ],
 "metadata": {
  "kernelspec": {
   "display_name": "Python 3",
   "language": "python",
   "name": "python3"
  },
  "language_info": {
   "codemirror_mode": {
    "name": "ipython",
    "version": 3
   },
   "file_extension": ".py",
   "mimetype": "text/x-python",
   "name": "python",
   "nbconvert_exporter": "python",
   "pygments_lexer": "ipython3",
   "version": "3.7.6"
  }
 },
 "nbformat": 4,
 "nbformat_minor": 4
}
